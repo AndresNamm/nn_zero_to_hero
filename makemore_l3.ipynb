{
 "cells": [
  {
   "cell_type": "code",
   "execution_count": 4,
   "metadata": {},
   "outputs": [],
   "source": [
    "import importlib"
   ]
  },
  {
   "cell_type": "code",
   "execution_count": 1,
   "metadata": {},
   "outputs": [
    {
     "data": {
      "text/plain": [
       "CharacterMapping(stoi={'a': 1, 'b': 2, 'c': 3, 'd': 4, 'e': 5, 'f': 6, 'g': 7, 'h': 8, 'i': 9, 'j': 10, 'k': 11, 'l': 12, 'm': 13, 'n': 14, 'o': 15, 'p': 16, 'q': 17, 'r': 18, 's': 19, 't': 20, 'u': 21, 'v': 22, 'w': 23, 'x': 24, 'y': 25, 'z': 26, '.': 0}, itos={1: 'a', 2: 'b', 3: 'c', 4: 'd', 5: 'e', 6: 'f', 7: 'g', 8: 'h', 9: 'i', 10: 'j', 11: 'k', 12: 'l', 13: 'm', 14: 'n', 15: 'o', 16: 'p', 17: 'q', 18: 'r', 19: 's', 20: 't', 21: 'u', 22: 'v', 23: 'w', 24: 'x', 25: 'y', 26: 'z', 0: '.'}, vocab_size=27)"
      ]
     },
     "execution_count": 1,
     "metadata": {},
     "output_type": "execute_result"
    }
   ],
   "source": [
    "from makemore.prepare_data import generate_character_mapping\n",
    "\n",
    "with open('data/names.txt', encoding='utf-8') as f:\n",
    "    names = f.readlines()\n",
    "    names = [name.strip() for name in names]\n",
    "\n",
    "character_map = generate_character_mapping(names)\n",
    "character_map"
   ]
  },
  {
   "cell_type": "code",
   "execution_count": 9,
   "metadata": {},
   "outputs": [
    {
     "name": "stdout",
     "output_type": "stream",
     "text": [
      "Shape of c: torch.Size([27, 3])\n",
      "Shape of w1: torch.Size([12, 150])\n",
      "Shape of b1: torch.Size([150])\n",
      "Shape of w2: torch.Size([150, 27])\n",
      "Shape of b2: torch.Size([27])\n",
      "Total parameters currently in NN 6108\n",
      "\u001b[92mStart training\u001b[0m\n",
      "Loss after 1 epochs: 24.330106735229492\n",
      "Loss after 334 epochs: 3.0838303565979004\n",
      "Loss after 667 epochs: 2.9176175594329834\n",
      "Loss after 1000 epochs: 2.7522661685943604\n",
      "NN_4_150_3 loss:after 1000 epochs: 2.7522661685943604\n"
     ]
    }
   ],
   "source": [
    "from makemore.prepare_data import generate_training_data\n",
    "import makemore.neural_network\n",
    "importlib.reload(makemore.neural_network)\n",
    "from makemore.neural_network import NeuralNetwork, TrainingParams\n",
    "\n",
    "import random \n",
    "\n",
    "\n",
    "random.seed(42)\n",
    "random.shuffle(names)\n",
    "\n",
    "n1 = int(len(names)*0.8)\n",
    "n2 = int(len(names)*0.9)\n",
    "\n",
    "X_train,Y_train  = generate_training_data(names[:n1],4)\n",
    "X_val,Y_val = generate_training_data(names[n1:n2],4)\n",
    "X_test,Y_test = generate_training_data(names[n2:],4)\n",
    "\n",
    "nn = NeuralNetwork(context_size=4,hidden_layer_neurons=150,letter_embedding_dimensions=3, print_flag=True)\n",
    "nn.train(X_train,Y_train, training_params= TrainingParams(iterations=1000, batch_size=50, learning_rate=lambda _: 0.1))\n"
   ]
  },
  {
   "cell_type": "markdown",
   "metadata": {},
   "source": [
    "# Initialization analysis\n",
    "\n",
    "What to do we expect the loss to be at initialization? \n",
    "\n",
    "- Our loss function right now is the negative log likelihood average function.  If the probability is close to 0, the loss is exponentially high. "
   ]
  },
  {
   "cell_type": "code",
   "execution_count": 19,
   "metadata": {},
   "outputs": [
    {
     "data": {
      "image/png": "[encoded data removed]",
      "text/plain": [
       "<Figure size 640x480 with 1 Axes>"
      ]
     },
     "metadata": {},
     "output_type": "display_data"
    }
   ],
   "source": [
    "import numpy as np\n",
    "import matplotlib.pyplot as plt\n",
    "\n",
    "# visualize negativ log likelyhood with matplotlib\n",
    "\n",
    "sample_xs = np.linspace(0.001, 1, 1000)\n",
    "sample_ys = [-np.log(x) for x in sample_xs]\n",
    "plt.plot(sample_xs,sample_ys)\n",
    "plt.title(\"Negative Log Likelihood\")\n",
    "plt.show()\n"
   ]
  },
  {
   "cell_type": "markdown",
   "metadata": {},
   "source": [
    "- Considering that we have 27 characters to be predicted, the average loss is a bit too high. \n",
    "- With uniform prediction we would have **(4 %/0.04)** chance of making the right guess. \n",
    "- From negative log likelihood perspectice, this should be average value around 3 visually looking. Not 27. \n",
    "\n",
    "So why is it 27?"
   ]
  },
  {
   "cell_type": "code",
   "execution_count": null,
   "metadata": {},
   "outputs": [],
   "source": []
  }
 ],
 "metadata": {
  "kernelspec": {
   "display_name": ".venv",
   "language": "python",
   "name": "python3"
  },
  "language_info": {
   "codemirror_mode": {
    "name": "ipython",
    "version": 3
   },
   "file_extension": ".py",
   "mimetype": "text/x-python",
   "name": "python",
   "nbconvert_exporter": "python",
   "pygments_lexer": "ipython3",
   "version": "3.11.5"
  }
 },
 "nbformat": 4,
 "nbformat_minor": 2
}
