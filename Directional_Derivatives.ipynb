{
  "nbformat": 4,
  "nbformat_minor": 0,
  "metadata": {
    "colab": {
      "provenance": [],
      "authorship_tag": "ABX9TyOZqbakC1ilYErfo/uBbSw6",
      "include_colab_link": true
    },
    "kernelspec": {
      "name": "python3",
      "display_name": "Python 3"
    },
    "language_info": {
      "name": "python"
    }
  },
  "cells": [
    {
      "cell_type": "markdown",
      "metadata": {
        "id": "view-in-github",
        "colab_type": "text"
      },
      "source": [
        "<a href=\"https://colab.research.google.com/github/AndresNamm/nn_zero_to_hero/blob/main/Directional_Derivatives.ipynb\" target=\"_parent\"><img src=\"https://colab.research.google.com/assets/colab-badge.svg\" alt=\"Open In Colab\"/></a>"
      ]
    },
    {
      "cell_type": "code",
      "execution_count": 7,
      "metadata": {
        "colab": {
          "base_uri": "https://localhost:8080/"
        },
        "id": "SGum8_CkRXCv",
        "outputId": "9fef138f-807f-4dc2-94c5-ec082077d5a5"
      },
      "outputs": [
        {
          "output_type": "stream",
          "name": "stdout",
          "text": [
            "\n",
            "Direction 1 [1, 0, 0], Length: 1.0\n",
            "Direction 2 [0.5773502691896258, 0.5773502691896258, 0.5773502691896258], Length: 1.0\n",
            "Direction 3 [0.6674238124719146, 0.5720775535473553, 0.4767312946227962], Length: 1.0\n",
            "\n",
            "Calculating Directional Derivatives for different directions: \n",
            "Direction 1 directional derivative 7\n",
            "Direction 2 directional derivative 10.392304845413264\n",
            "Direction 3 directional derivative 10.488088481701514\n",
            "\n",
            "Best direction to go is Direction 3\n"
          ]
        }
      ],
      "source": [
        "import math\n",
        "\n",
        "def get_vector_length(vector):\n",
        "    return math.sqrt(sum([i*i for i in vector]))\n",
        "\n",
        "grad = [7,6,5] # Vector of Partial Derivatives / Gradient\n",
        "grad_length = get_vector_length(grad)\n",
        "equal_distance_vec_length = math.sqrt(sum([1 for _ in range(3)]))\n",
        "\n",
        "\n",
        "# DEFINE 3 UNIT VECTORS\n",
        "direction1 = [1,0,0]\n",
        "direction2 = [1/equal_distance_vec_length for _ in range(3)]\n",
        "direction3 = [i / grad_length for i in grad]\n",
        "\n",
        "print()\n",
        "print(f\"Direction 1 {direction1}, Length: {get_vector_length(direction1)}\")\n",
        "print(f\"Direction 2 {direction2}, Length: {get_vector_length(direction2)}\")\n",
        "print(f\"Direction 3 {direction3}, Length: {get_vector_length(direction3)}\")\n",
        "print()\n",
        "print(\"Calculating Directional Derivatives for different directions: \")\n",
        "print(f\"Direction 1 directional derivative {sum([g*d for g,d in zip(direction1,grad)])}\")\n",
        "print(f\"Direction 2 directional derivative {sum([g*d for g,d in zip(direction2,grad)])}\")\n",
        "print(f\"Direction 3 directional derivative {sum([g*d for g,d in zip(direction3,grad)])}\")\n",
        "print()\n",
        "print(\"Best direction to go is Direction 3, The same direction as the gradient\")"
      ]
    },
    {
      "cell_type": "code",
      "source": [],
      "metadata": {
        "id": "CpBmI5_fS703"
      },
      "execution_count": null,
      "outputs": []
    }
  ]
}