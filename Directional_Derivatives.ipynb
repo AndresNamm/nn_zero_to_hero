{
  "nbformat": 4,
  "nbformat_minor": 0,
  "metadata": {
    "colab": {
      "provenance": [],
      "authorship_tag": "ABX9TyOLmQZnw7fRBgU384EXgP5R",
      "include_colab_link": true
    },
    "kernelspec": {
      "name": "python3",
      "display_name": "Python 3"
    },
    "language_info": {
      "name": "python"
    }
  },
  "cells": [
    {
      "cell_type": "markdown",
      "metadata": {
        "id": "view-in-github",
        "colab_type": "text"
      },
      "source": [
        "<a href=\"https://colab.research.google.com/github/AndresNamm/nn_zero_to_hero/blob/main/Directional_Derivatives.ipynb\" target=\"_parent\"><img src=\"https://colab.research.google.com/assets/colab-badge.svg\" alt=\"Open In Colab\"/></a>"
      ]
    },
    {
      "cell_type": "code",
      "execution_count": 2,
      "metadata": {
        "colab": {
          "base_uri": "https://localhost:8080/"
        },
        "id": "SGum8_CkRXCv",
        "outputId": "6f688b01-b6a3-409d-a506-e6ee0c1e2bb5"
      },
      "outputs": [
        {
          "output_type": "stream",
          "name": "stdout",
          "text": [
            "\n",
            "Unit Vector Direction 1 (1 to max) [1, 0, 0], Length: 1.0\n",
            "Unit Vector Direction 2 (Equal) [0.5773502691896258, 0.5773502691896258, 0.5773502691896258], Length: 1.0\n",
            "Unit Vector Direction 3 (Same as gradient) [0.6674238124719146, 0.5720775535473553, 0.4767312946227962], Length: 1.0\n",
            "\n",
            "Calculating Directional Derivatives for different directions: \n",
            "Direction 1 (1 to max) directional derivative 7\n",
            "Direction 2 (Equal) directional derivative 10.392304845413264\n",
            "Direction 3 (Same as gradient) directional derivative 10.488088481701514\n",
            "\n",
            "Best direction to go is Direction 3, The same direction as the gradient\n"
          ]
        }
      ],
      "source": [
        "import math\n",
        "\n",
        "def get_vector_length(vector):\n",
        "    return math.sqrt(sum([i*i for i in vector]))\n",
        "\n",
        "grad = [7,6,5] # Vector of Partial Derivatives / Gradient\n",
        "equal_distance_vec_length = math.sqrt(sum([1 for _ in range(3)]))\n",
        "grad_length = get_vector_length(grad)\n",
        "\n",
        "\n",
        "# DEFINE 3 UNIT VECTORS\n",
        "direction1 = [1,0,0] # Unit vector goint max in direction where there is hifhesr\n",
        "direction2 = [1/equal_distance_vec_length for _ in range(3)] # Unit vector going equally in each direction\n",
        "direction3 = [i / grad_length for i in grad] # Unit vector going in same direction as Gradient\n",
        "\n",
        "print()\n",
        "print(f\"Unit Vector Direction 1 (1 to max) {direction1}, Length: {get_vector_length(direction1)}\")\n",
        "print(f\"Unit Vector Direction 2 (Equal) {direction2}, Length: {get_vector_length(direction2)}\")\n",
        "print(f\"Unit Vector Direction 3 (Same as gradient) {direction3}, Length: {get_vector_length(direction3)}\")\n",
        "print()\n",
        "print(\"Calculating Directional Derivatives for different directions: \")\n",
        "print(f\"Direction 1 (1 to max) directional derivative {sum([g*d for g,d in zip(direction1,grad)])}\")\n",
        "print(f\"Direction 2 (Equal) directional derivative {sum([g*d for g,d in zip(direction2,grad)])}\")\n",
        "print(f\"Direction 3 (Same as gradient) directional derivative {sum([g*d for g,d in zip(direction3,grad)])}\")\n",
        "print()\n",
        "print(\"Best direction to go is Direction 3, The same direction as the gradient\")"
      ]
    },
    {
      "cell_type": "code",
      "source": [],
      "metadata": {
        "id": "CpBmI5_fS703"
      },
      "execution_count": null,
      "outputs": []
    }
  ]
}