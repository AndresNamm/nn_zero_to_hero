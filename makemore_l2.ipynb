{
 "cells": [
  {
   "cell_type": "markdown",
   "metadata": {},
   "source": [
    "# SAMPLE RUNTHROUGH"
   ]
  },
  {
   "cell_type": "markdown",
   "metadata": {},
   "source": [
    "## PREPARE DATA"
   ]
  },
  {
   "cell_type": "code",
   "execution_count": 8,
   "metadata": {},
   "outputs": [
    {
     "name": "stdout",
     "output_type": "stream",
     "text": [
      "{'.': 0, 'a': 1, 'b': 2, 'c': 3, 'd': 4, 'e': 5, 'f': 6, 'g': 7, 'h': 8, 'i': 9, 'j': 10, 'k': 11, 'l': 12, 'm': 13, 'n': 14, 'o': 15, 'p': 16, 'q': 17, 'r': 18, 's': 19, 't': 20, 'u': 21, 'v': 22, 'w': 23, 'x': 24, 'y': 25, 'z': 26}\n",
      "{0: '.', 1: 'a', 2: 'b', 3: 'c', 4: 'd', 5: 'e', 6: 'f', 7: 'g', 8: 'h', 9: 'i', 10: 'j', 11: 'k', 12: 'l', 13: 'm', 14: 'n', 15: 'o', 16: 'p', 17: 'q', 18: 'r', 19: 's', 20: 't', 21: 'u', 22: 'v', 23: 'w', 24: 'x', 25: 'y', 26: 'z'}\n"
     ]
    }
   ],
   "source": [
    "with open('data/names.txt') as f:\n",
    "    names = f.readlines()\n",
    "names = [name.strip() for name in names]\n",
    "\n",
    "itos = {}\n",
    "stoi = {}\n",
    "\n",
    "itos[0]='.'\n",
    "stoi['.']=0\n",
    "\n",
    "letters=sorted(list(set(\"\".join(names))))\n",
    "\n",
    "for idx,letter in enumerate(letters):\n",
    "    stoi[letter]=idx+1\n",
    "    itos[idx+1]=letter\n",
    "\n",
    "print(stoi)\n",
    "print(itos)\n",
    "\n"
   ]
  },
  {
   "cell_type": "code",
   "execution_count": 20,
   "metadata": {},
   "outputs": [],
   "source": [
    "# Don't change these parameters, as they are used in the explanation in the SAMPLE RUNTHROUGH part\n",
    "SAMPLE_CONTEXT_SIZE = 3\n",
    "SAMPLE_LETTER_EMBEDDING_SIZE=2\n",
    "SAMPLE_TRAINING_DATA_SIZE=5\n",
    "SAMPLE_HIDDEN_LAYER_NEURONS=100"
   ]
  },
  {
   "cell_type": "code",
   "execution_count": 13,
   "metadata": {},
   "outputs": [],
   "source": [
    "import torch\n",
    "\n",
    "def generate_training_data(names,block_size=3,print_out=False):\n",
    "    X = []\n",
    "    Y = []\n",
    "    for name in names:\n",
    "        name = name + \".\"\n",
    "        context = block_size * [0]\n",
    "        if print_out:\n",
    "            print(name)\n",
    "        for ch in name:\n",
    "            context_str = \"\".join([itos[idx] for idx in context])\n",
    "            predict_str = ch\n",
    "            if print_out:\n",
    "                print(f\"{context_str}-->{predict_str}\")\n",
    "            X.append(context)\n",
    "            Y.append(stoi[ch])\n",
    "            context = context[1:]+[stoi[ch]]\n",
    "    X=torch.tensor(X)\n",
    "    Y=torch.tensor(Y)\n",
    "    return X, Y\n",
    "\n",
    "X,Y = generate_training_data(names[:SAMPLE_TRAINING_DATA_SIZE],SAMPLE_CONTEXT_SIZE)\n",
    "\n"
   ]
  },
  {
   "cell_type": "markdown",
   "metadata": {},
   "source": [
    "We have 32 examples with 3 context letters each"
   ]
  },
  {
   "cell_type": "code",
   "execution_count": 14,
   "metadata": {},
   "outputs": [
    {
     "data": {
      "text/plain": [
       "torch.Size([32, 3])"
      ]
     },
     "execution_count": 14,
     "metadata": {},
     "output_type": "execute_result"
    }
   ],
   "source": [
    "X.shape"
   ]
  },
  {
   "cell_type": "markdown",
   "metadata": {},
   "source": [
    "## CREATE LETTER EMBEDDINGS"
   ]
  },
  {
   "cell_type": "markdown",
   "metadata": {},
   "source": [
    "Represent each letter in alpabeth with 2 dimensional embedding vector. Initialize the embedding vectors randomly."
   ]
  },
  {
   "cell_type": "code",
   "execution_count": 15,
   "metadata": {},
   "outputs": [
    {
     "data": {
      "text/plain": [
       "torch.Size([27, 2])"
      ]
     },
     "execution_count": 15,
     "metadata": {},
     "output_type": "execute_result"
    }
   ],
   "source": [
    "C = torch.randn(27,SAMPLE_LETTER_EMBEDDING_SIZE).float()\n",
    "C.shape"
   ]
  },
  {
   "cell_type": "markdown",
   "metadata": {},
   "source": [
    "Create embeddings \"emb\" for all the training samples for each context word.       \n",
    "The result: A tensor (multidimensional matrix) with dimensions | Train size * Context Size * Letter embedding Size |\n",
    "\n",
    "Where \n",
    "\n",
    "- Train size : How many training examples our data has \n",
    "- Context size : How many previous letters we use to predict the next letter\n",
    "- Letter embedding size : How many dimensions we use to model 1 letter"
   ]
  },
  {
   "cell_type": "code",
   "execution_count": 16,
   "metadata": {},
   "outputs": [
    {
     "data": {
      "text/plain": [
       "torch.Size([32, 3, 2])"
      ]
     },
     "execution_count": 16,
     "metadata": {},
     "output_type": "execute_result"
    }
   ],
   "source": [
    "emb = C[X] \n",
    "# C is 27 * 2\n",
    "# X is 32 * 3 where each value is a letter index from 0-27 \n",
    "# We basically choose a 2 dimensional vector for each letter index in X\n",
    "emb.shape"
   ]
  },
  {
   "cell_type": "markdown",
   "metadata": {},
   "source": [
    "Below is the first training sample context letters as 2 dimensional vectors"
   ]
  },
  {
   "cell_type": "code",
   "execution_count": 9,
   "metadata": {},
   "outputs": [
    {
     "data": {
      "text/plain": [
       "tensor([[ 0.7815, -0.5151],\n",
       "        [ 0.7815, -0.5151],\n",
       "        [ 0.7815, -0.5151]])"
      ]
     },
     "execution_count": 9,
     "metadata": {},
     "output_type": "execute_result"
    }
   ],
   "source": [
    "emb[0]"
   ]
  },
  {
   "cell_type": "markdown",
   "metadata": {},
   "source": [
    "## CREATE NEURON WEIGHTS\n",
    "\n",
    "Each neuron has weight for all context letter all dimensions\n"
   ]
  },
  {
   "cell_type": "code",
   "execution_count": 21,
   "metadata": {},
   "outputs": [
    {
     "data": {
      "text/plain": [
       "torch.Size([6, 100])"
      ]
     },
     "execution_count": 21,
     "metadata": {},
     "output_type": "execute_result"
    }
   ],
   "source": [
    "W1 = torch.randn([SAMPLE_CONTEXT_SIZE*SAMPLE_LETTER_EMBEDDING_SIZE,SAMPLE_HIDDEN_LAYER_NEURONS])\n",
    "W1.shape"
   ]
  },
  {
   "cell_type": "markdown",
   "metadata": {},
   "source": [
    "Let's create bias parameter as well"
   ]
  },
  {
   "cell_type": "code",
   "execution_count": 22,
   "metadata": {},
   "outputs": [
    {
     "data": {
      "text/plain": [
       "torch.Size([100])"
      ]
     },
     "execution_count": 22,
     "metadata": {},
     "output_type": "execute_result"
    }
   ],
   "source": [
    "b1 = torch.randn(SAMPLE_HIDDEN_LAYER_NEURONS) \n",
    "b1.shape"
   ]
  },
  {
   "cell_type": "markdown",
   "metadata": {},
   "source": [
    "## SHAPE TRAINING DATA SO WE COULD MATRIX MULTIPLY IT WITH NEURONS\n",
    "\n",
    "This means the training data rows need to have have as many columns as neurons take inputs."
   ]
  },
  {
   "cell_type": "markdown",
   "metadata": {},
   "source": [
    "### NOT WELL PERFORMING SAMPLE "
   ]
  },
  {
   "cell_type": "markdown",
   "metadata": {},
   "source": [
    "The unbind operation seems to take a particular dimension and remove it in a way that instead of that dimension you will have that dimension represented in multiple lists for each dimension. It allows us to do easy concatenation."
   ]
  },
  {
   "cell_type": "code",
   "execution_count": null,
   "metadata": {},
   "outputs": [],
   "source": [
    "training_data = torch.cat(torch.unbind(emb,1),1) "
   ]
  },
  {
   "cell_type": "code",
   "execution_count": null,
   "metadata": {},
   "outputs": [
    {
     "data": {
      "text/plain": [
       "torch.Size([32, 6])"
      ]
     },
     "execution_count": 33,
     "metadata": {},
     "output_type": "execute_result"
    }
   ],
   "source": [
    "training_data.shape"
   ]
  },
  {
   "cell_type": "markdown",
   "metadata": {},
   "source": [
    "### BETTER PERFORMING SAMPLE "
   ]
  },
  {
   "cell_type": "markdown",
   "metadata": {},
   "source": [
    "View is a much faster operation compared to cat and bind because it does not need to use extra memory. It is also able to sort of unstack the tensor dimensions"
   ]
  },
  {
   "cell_type": "code",
   "execution_count": null,
   "metadata": {},
   "outputs": [
    {
     "data": {
      "text/plain": [
       "tensor(True)"
      ]
     },
     "execution_count": 34,
     "metadata": {},
     "output_type": "execute_result"
    }
   ],
   "source": [
    "(torch.eq(training_data, emb.view(-1,6)).all())"
   ]
  },
  {
   "cell_type": "markdown",
   "metadata": {},
   "source": [
    "emb.view(-1,6)"
   ]
  },
  {
   "cell_type": "markdown",
   "metadata": {},
   "source": [
    "## FIRST PART OF FORWARD PROPAGATION\n",
    "\n",
    "Here we flow the data through first 100 neurons. \n",
    "\n",
    "For each sample we now get 100 values. \n"
   ]
  },
  {
   "cell_type": "code",
   "execution_count": 19,
   "metadata": {},
   "outputs": [
    {
     "data": {
      "text/plain": [
       "torch.Size([32, 100])"
      ]
     },
     "execution_count": 19,
     "metadata": {},
     "output_type": "execute_result"
    }
   ],
   "source": [
    "training_data = emb.view(-1,SAMPLE_CONTEXT_SIZE*SAMPLE_LETTER_EMBEDDING_SIZE) \n",
    "h = training_data @ W1 + b1\n",
    "h.shape"
   ]
  },
  {
   "cell_type": "markdown",
   "metadata": {},
   "source": [
    "## COMPLETE ONE TIME FORWARD PASS"
   ]
  },
  {
   "cell_type": "markdown",
   "metadata": {},
   "source": [
    "We create second layer with softmax function. There will be 27 neurons,\n",
    "each neuron output will be a probability for particular letter"
   ]
  },
  {
   "cell_type": "code",
   "execution_count": null,
   "metadata": {},
   "outputs": [],
   "source": [
    "W2 = torch.randn(100, 27)\n",
    "b2 = torch.randn(27)\n",
    "logits = h.tanh() @ W2 + b2 \n",
    "counts = logits.exp()\n",
    "probs = counts/counts.sum(1,keepdim=True)\n"
   ]
  },
  {
   "cell_type": "markdown",
   "metadata": {},
   "source": [
    "Check that for each training sample the probabilities will equal = 1"
   ]
  },
  {
   "cell_type": "code",
   "execution_count": null,
   "metadata": {},
   "outputs": [],
   "source": [
    "probs.sum(1,keepdim=True)"
   ]
  },
  {
   "cell_type": "markdown",
   "metadata": {},
   "source": [
    "For each X get the probability for the right prediction. If it is low, the loglikelihood will return high loss"
   ]
  },
  {
   "cell_type": "code",
   "execution_count": null,
   "metadata": {},
   "outputs": [],
   "source": [
    "loss  = -probs[torch.arange(X.shape[0]), Y].log().mean()"
   ]
  },
  {
   "cell_type": "code",
   "execution_count": null,
   "metadata": {},
   "outputs": [],
   "source": [
    "loss"
   ]
  },
  {
   "cell_type": "markdown",
   "metadata": {},
   "source": [
    "## QUESTIONS\n",
    "\n",
    "\n",
    "### QUESTION 1\n",
    "\n",
    "- Are dimension mapping for each particular letter parameters in this neural network? \n",
    "\n",
    "\n",
    "### QUESTION 2\n",
    "\n",
    "- If our dataset has 100 training examples. Each letter is mapped to 2 dimensions. We will have 100 neurons in middle layer and 27 neurons in the output layer. How many times for 1 ba"
   ]
  },
  {
   "cell_type": "markdown",
   "metadata": {},
   "source": [
    "## ANSWERS \n",
    "\n",
    "\n",
    "### ANSWER 1\n",
    "\n",
    "- Yes, these are All dimensions for the 27 letters . These we will update in each training run to reduce loss. These parameters affect the multiplication with each neuron in the first hidden layer. \n",
    "\n"
   ]
  },
  {
   "cell_type": "markdown",
   "metadata": {},
   "source": [
    "# MORE RESPECTABLE VERSION OF THIS "
   ]
  },
  {
   "cell_type": "markdown",
   "metadata": {},
   "source": [
    "Lets define some default hyperparameters"
   ]
  },
  {
   "cell_type": "code",
   "execution_count": null,
   "metadata": {},
   "outputs": [],
   "source": [
    "EMBEDDING_DIMENSION = 2\n",
    "CONTEXT_SIZE = 3\n",
    "TRAINING_SIZE = -1\n",
    "HIDDEN_LAYER_SIZE = 100"
   ]
  },
  {
   "cell_type": "markdown",
   "metadata": {},
   "source": [
    "Let us now generate new training data"
   ]
  },
  {
   "cell_type": "code",
   "execution_count": null,
   "metadata": {},
   "outputs": [
    {
     "name": "stdout",
     "output_type": "stream",
     "text": [
      "X shape torch.Size([228140, 3])\n",
      "Y shape torch.Size([228140])\n"
     ]
    }
   ],
   "source": [
    "X,Y = generate_training_data(names[:TRAINING_SIZE], block_size=CONTEXT_SIZE,print_out=False)\n",
    "\n",
    "print(f\"X shape {X.shape}\")\n",
    "print(f\"Y shape {Y.shape}\")"
   ]
  },
  {
   "cell_type": "markdown",
   "metadata": {},
   "source": [
    "Initialize parameters"
   ]
  },
  {
   "cell_type": "code",
   "execution_count": null,
   "metadata": {},
   "outputs": [
    {
     "name": "stdout",
     "output_type": "stream",
     "text": [
      "Total parameters currently in NN 3481\n"
     ]
    }
   ],
   "source": [
    "\n",
    "def initialize_global_weights():\n",
    "    global g, C, W1, B1, W2, B2, params\n",
    "    g = torch.Generator().manual_seed(2147483647)\n",
    "    C = torch.randn(27,EMBEDDING_DIMENSION,generator=g) \n",
    "    W1 = torch.randn(EMBEDDING_DIMENSION*CONTEXT_SIZE,HIDDEN_LAYER_SIZE,generator=g)\n",
    "    B1 = torch.randn(HIDDEN_LAYER_SIZE,generator=g) # Add to every neuron bias\n",
    "    W2 = torch.randn(HIDDEN_LAYER_SIZE,27,generator=g)\n",
    "    B2 = torch.randn(27) # Add to every neuron bias\n",
    "\n",
    "    params = [C,W1,B1,W2,B2]\n",
    "    param_count = sum([p.nelement()  for p in params])\n",
    "\n",
    "    print(f\"Total parameters currently in NN {param_count}\")\n",
    "\n",
    "\n",
    "    for p in params:\n",
    "        p.requires_grad=True\n",
    "\n",
    "\n",
    "initialize_global_weights()\n",
    "\n"
   ]
  },
  {
   "cell_type": "markdown",
   "metadata": {},
   "source": [
    "## TRAINING WITH FULL DATA"
   ]
  },
  {
   "cell_type": "code",
   "execution_count": null,
   "metadata": {},
   "outputs": [
    {
     "name": "stdout",
     "output_type": "stream",
     "text": [
      "Total loss currently is 6.516178131103516\n",
      "Total loss currently is 6.407242774963379\n",
      "Total loss currently is 6.302850723266602\n",
      "Total loss currently is 6.202707290649414\n",
      "Total loss currently is 6.1065473556518555\n",
      "This is too slow, let's implement the minibatch approach\n"
     ]
    }
   ],
   "source": [
    "import torch.nn.functional as F\n",
    "\n",
    "for i in range(100):\n",
    "    # Forward propagation\n",
    "    h = (C[X].view(-1,EMBEDDING_DIMENSION*CONTEXT_SIZE)  @ W1 + B1).tanh()\n",
    "    logits = h @ W2 + B2\n",
    "    loss = F.cross_entropy(logits, Y)\n",
    "\n",
    "\n",
    "    print(f\"Total loss currently is {loss}\")\n",
    "\n",
    "    for param in params:\n",
    "        param.grad=None\n",
    "\n",
    "    loss.backward()\n",
    "\n",
    "    for param in params: \n",
    "        param.data -= param.grad * 0.1\n",
    "\n",
    "\n",
    "    if i > 3:\n",
    "        print(\"This is too slow, let's implement the minibatch approach\")\n",
    "        break\n",
    "\n",
    "\n",
    "\n",
    "\n"
   ]
  },
  {
   "cell_type": "markdown",
   "metadata": {},
   "source": [
    "## TRAINING WITH MINIBATCHES"
   ]
  },
  {
   "cell_type": "code",
   "execution_count": null,
   "metadata": {},
   "outputs": [
    {
     "name": "stdout",
     "output_type": "stream",
     "text": [
      "Total loss currently is 6.549178600311279\n",
      "Total loss currently is 5.113999843597412\n",
      "Total loss currently is 5.1251349449157715\n",
      "Total loss currently is 6.682413578033447\n",
      "Total loss currently is 4.9730634689331055\n",
      "Total loss currently is 6.17246150970459\n",
      "Total loss currently is 5.8346028327941895\n",
      "Total loss currently is 6.0926079750061035\n",
      "Total loss currently is 5.339205265045166\n",
      "Total loss currently is 5.7882232666015625\n",
      "Total loss currently is 5.949705123901367\n",
      "Total loss currently is 4.603688716888428\n",
      "Total loss currently is 5.587912082672119\n",
      "Total loss currently is 4.940683841705322\n",
      "Total loss currently is 4.808905124664307\n",
      "Total loss currently is 5.440016269683838\n",
      "Total loss currently is 5.021642208099365\n",
      "Total loss currently is 4.437012195587158\n",
      "Total loss currently is 5.02024507522583\n",
      "Total loss currently is 5.108010292053223\n",
      "Total loss currently is 4.983280181884766\n",
      "Total loss currently is 5.9054765701293945\n",
      "Total loss currently is 5.194680690765381\n",
      "Total loss currently is 4.593587875366211\n",
      "Total loss currently is 4.867786407470703\n",
      "Total loss currently is 4.191658973693848\n",
      "Total loss currently is 4.78785514831543\n",
      "Total loss currently is 3.7764976024627686\n",
      "Total loss currently is 3.8205277919769287\n",
      "Total loss currently is 5.0605058670043945\n",
      "Total loss currently is 3.5138251781463623\n",
      "Total loss currently is 3.16312837600708\n",
      "Total loss currently is 5.299274921417236\n",
      "Total loss currently is 4.66220235824585\n",
      "Total loss currently is 2.3562259674072266\n",
      "Total loss currently is 4.355774879455566\n",
      "Total loss currently is 4.352978706359863\n",
      "Total loss currently is 4.003777503967285\n",
      "Total loss currently is 3.7789623737335205\n",
      "Total loss currently is 5.370329856872559\n",
      "Total loss currently is 3.767518997192383\n",
      "Total loss currently is 4.012755870819092\n",
      "Total loss currently is 3.545605182647705\n",
      "Total loss currently is 3.1324830055236816\n",
      "Total loss currently is 5.097240924835205\n",
      "Total loss currently is 3.6892709732055664\n",
      "Total loss currently is 4.354321479797363\n",
      "Total loss currently is 3.1617977619171143\n",
      "Total loss currently is 4.753604412078857\n",
      "Total loss currently is 3.503838062286377\n",
      "Total loss currently is 3.9865009784698486\n",
      "Total loss currently is 3.468796730041504\n",
      "Total loss currently is 3.2905044555664062\n",
      "Total loss currently is 3.9744980335235596\n",
      "Total loss currently is 3.665820598602295\n",
      "Total loss currently is 3.2582638263702393\n",
      "Total loss currently is 4.07902717590332\n",
      "Total loss currently is 3.9598886966705322\n",
      "Total loss currently is 3.443946599960327\n",
      "Total loss currently is 3.6836721897125244\n",
      "Total loss currently is 4.732080459594727\n",
      "Total loss currently is 3.7354185581207275\n",
      "Total loss currently is 4.282196044921875\n",
      "Total loss currently is 4.380341529846191\n",
      "Total loss currently is 3.2205820083618164\n",
      "Total loss currently is 3.564987897872925\n",
      "Total loss currently is 4.038187026977539\n",
      "Total loss currently is 3.5432300567626953\n",
      "Total loss currently is 3.7346322536468506\n",
      "Total loss currently is 4.821882724761963\n",
      "Total loss currently is 4.2499613761901855\n",
      "Total loss currently is 3.5822746753692627\n",
      "Total loss currently is 3.2857666015625\n",
      "Total loss currently is 3.55777907371521\n",
      "Total loss currently is 3.1724963188171387\n",
      "Total loss currently is 3.590568780899048\n",
      "Total loss currently is 3.1556332111358643\n",
      "Total loss currently is 3.488764524459839\n",
      "Total loss currently is 3.4824912548065186\n",
      "Total loss currently is 3.6671295166015625\n",
      "Total loss currently is 3.149932861328125\n",
      "Total loss currently is 4.1719865798950195\n",
      "Total loss currently is 2.9503402709960938\n",
      "Total loss currently is 3.4745938777923584\n",
      "Total loss currently is 3.217768907546997\n",
      "Total loss currently is 3.280714988708496\n",
      "Total loss currently is 3.2341935634613037\n",
      "Total loss currently is 3.1827492713928223\n",
      "Total loss currently is 2.7482991218566895\n",
      "Total loss currently is 3.334756851196289\n",
      "Total loss currently is 3.127411127090454\n",
      "Total loss currently is 2.9791290760040283\n",
      "Total loss currently is 3.5905823707580566\n",
      "Total loss currently is 2.910703420639038\n",
      "Total loss currently is 3.8022358417510986\n",
      "Total loss currently is 3.1851465702056885\n",
      "Total loss currently is 3.5184757709503174\n",
      "Total loss currently is 3.07443904876709\n",
      "Total loss currently is 3.432988166809082\n",
      "Total loss currently is 2.673314332962036\n"
     ]
    }
   ],
   "source": [
    "import torch.nn.functional as F\n",
    "\n",
    "for i in range(100):\n",
    "    # Forward propagation\n",
    "\n",
    "    minibatch = torch.randint(0,X.shape[0],(31,))\n",
    "    h = (C[X[minibatch]].view(-1,EMBEDDING_DIMENSION*CONTEXT_SIZE)  @ W1 + B1).tanh()\n",
    "    logits = h @ W2 + B2\n",
    "    loss = F.cross_entropy(logits, Y[minibatch])\n",
    "\n",
    "\n",
    "    print(f\"Total loss currently is {loss}\")\n",
    "\n",
    "    for param in params:\n",
    "        param.grad=None\n",
    "\n",
    "    loss.backward()\n",
    "\n",
    "    for param in params: \n",
    "        param.data -= param.grad * 0.1\n",
    "\n",
    "\n",
    "\n"
   ]
  },
  {
   "cell_type": "markdown",
   "metadata": {},
   "source": [
    "## TRYING TO FIND THE BEST LEARNING RATE"
   ]
  },
  {
   "cell_type": "code",
   "execution_count": null,
   "metadata": {},
   "outputs": [
    {
     "name": "stdout",
     "output_type": "stream",
     "text": [
      "Total loss currently is 4.846511363983154\n",
      "Total loss currently is 4.302636623382568\n",
      "Total loss currently is 4.043240547180176\n",
      "Total loss currently is 3.549239158630371\n",
      "Total loss currently is 2.557985544204712\n",
      "Total loss currently is 2.4076554775238037\n",
      "Total loss currently is 2.8072502613067627\n",
      "Total loss currently is 2.3253140449523926\n",
      "Total loss currently is 2.8695895671844482\n",
      "Total loss currently is 2.904069185256958\n"
     ]
    }
   ],
   "source": [
    "import torch.nn.functional as F\n",
    "\n",
    "\n",
    "lre = torch.linspace(-3,0,1000)\n",
    "\n",
    "lr = 10 ** lre\n",
    "\n",
    "lri = []\n",
    "lossi = []\n",
    "\n",
    "for i in range(1000):\n",
    "    # Forward propagation\n",
    "\n",
    "    minibatch = torch.randint(0,X.shape[0],(31,))\n",
    "    h = (C[X[minibatch]].view(-1,EMBEDDING_DIMENSION*CONTEXT_SIZE)  @ W1 + B1).tanh()\n",
    "    logits = h @ W2 + B2\n",
    "    loss = F.cross_entropy(logits, Y[minibatch])\n",
    "\n",
    "    if i % 100==0:\n",
    "        print(f\"Total loss currently is {loss}\")\n",
    "\n",
    "    for param in params:\n",
    "        param.grad=None\n",
    "\n",
    "    loss.backward()\n",
    "\n",
    "    for param in params: \n",
    "        param.data -= param.grad * lr[i]\n",
    "\n",
    "    lri.append(lre[i])\n",
    "    lossi.append(loss.item())\n",
    "\n",
    "    \n",
    "\n"
   ]
  },
  {
   "cell_type": "markdown",
   "metadata": {},
   "source": [
    "We choose the learning rate from area where we see the loss is generally low."
   ]
  },
  {
   "cell_type": "code",
   "execution_count": null,
   "metadata": {},
   "outputs": [
    {
     "data": {
      "text/plain": [
       "[<matplotlib.lines.Line2D at 0x7f786d5ee450>]"
      ]
     },
     "execution_count": 72,
     "metadata": {},
     "output_type": "execute_result"
    },
    {
     "data": {
      "image/png": "[encoded data removed]",
      "text/plain": [
       "<Figure size 640x480 with 1 Axes>"
      ]
     },
     "metadata": {},
     "output_type": "display_data"
    }
   ],
   "source": [
    "import matplotlib.pyplot as plt\n",
    "%matplotlib inline\n",
    "\n",
    "plt.plot(lri,lossi)"
   ]
  },
  {
   "cell_type": "markdown",
   "metadata": {},
   "source": [
    "## FURTHER TUNING TRAINING TO GET LOWEST LOSS POSSIBLE"
   ]
  },
  {
   "cell_type": "code",
   "execution_count": null,
   "metadata": {},
   "outputs": [
    {
     "name": "stdout",
     "output_type": "stream",
     "text": [
      "Total parameters currently in NN 3481\n"
     ]
    }
   ],
   "source": [
    "initialize_global_weights()"
   ]
  },
  {
   "cell_type": "code",
   "execution_count": null,
   "metadata": {},
   "outputs": [
    {
     "name": "stdout",
     "output_type": "stream",
     "text": [
      "Total loss currently is 2.3229236602783203\n",
      "Current learning rate is 0.10000000149011612\n",
      "Total loss currently is 2.3811757564544678\n",
      "Current learning rate is 0.09636363387107849\n",
      "Total loss currently is 2.397203207015991\n",
      "Current learning rate is 0.0918181836605072\n",
      "Total loss currently is 2.362081289291382\n",
      "Current learning rate is 0.08727272599935532\n",
      "Total loss currently is 2.365567445755005\n",
      "Current learning rate is 0.08272727578878403\n",
      "Total loss currently is 2.3761329650878906\n",
      "Current learning rate is 0.07818181812763214\n",
      "Total loss currently is 2.3650588989257812\n",
      "Current learning rate is 0.07363636046648026\n",
      "Total loss currently is 2.3585476875305176\n",
      "Current learning rate is 0.06909091025590897\n",
      "Total loss currently is 2.355902671813965\n",
      "Current learning rate is 0.06454545259475708\n",
      "Total loss currently is 2.351731061935425\n",
      "Current learning rate is 0.05999999865889549\n",
      "Total loss currently is 2.3592441082000732\n",
      "Current learning rate is 0.055454544723033905\n",
      "Total loss currently is 2.3325908184051514\n",
      "Current learning rate is 0.050909094512462616\n",
      "Total loss currently is 2.3420979976654053\n",
      "Current learning rate is 0.04636363685131073\n",
      "Total loss currently is 2.3256914615631104\n",
      "Current learning rate is 0.04181818291544914\n",
      "Total loss currently is 2.3285293579101562\n",
      "Current learning rate is 0.037272728979587555\n",
      "Total loss currently is 2.325096368789673\n",
      "Current learning rate is 0.03272727504372597\n",
      "Total loss currently is 2.320765733718872\n",
      "Current learning rate is 0.02818181924521923\n",
      "Total loss currently is 2.31925892829895\n",
      "Current learning rate is 0.023636363446712494\n",
      "Total loss currently is 2.3178720474243164\n",
      "Current learning rate is 0.019090909510850906\n",
      "Total loss currently is 2.3107244968414307\n",
      "Current learning rate is 0.014545454643666744\n"
     ]
    },
    {
     "data": {
      "text/plain": [
       "[<matplotlib.lines.Line2D at 0x7f786cb8b550>]"
      ]
     },
     "execution_count": 92,
     "metadata": {},
     "output_type": "execute_result"
    },
    {
     "data": {
      "image/png": "[encoded data removed]",
      "text/plain": [
       "<Figure size 640x480 with 1 Axes>"
      ]
     },
     "metadata": {},
     "output_type": "display_data"
    }
   ],
   "source": [
    "import torch.nn.functional as F\n",
    "\n",
    "\n",
    "MAX_ITER = 10000\n",
    "\n",
    "\n",
    "lossi = []\n",
    "iter = []\n",
    "\n",
    "\n",
    "learning_rates = torch.linspace(0.1,0.01,100)\n",
    "\n",
    "\n",
    "for i in range(MAX_ITER):\n",
    "    # Forward propagation\n",
    "\n",
    "    minibatch = torch.randint(0,X.shape[0],(32,))\n",
    "    h = (C[X[minibatch]].view(-1,EMBEDDING_DIMENSION*CONTEXT_SIZE)  @ W1 + B1).tanh()\n",
    "    logits = h @ W2 + B2\n",
    "    loss = F.cross_entropy(logits, Y[minibatch])\n",
    "\n",
    "    learning_rate_idx = min(int(i / 10000 * 99), 99)\n",
    "    learning_rate = learning_rates[learning_rate_idx]\n",
    "\n",
    "    if i % 500==0:\n",
    "        # Calculate total loss\n",
    "        total_h = (C[X].view(-1,EMBEDDING_DIMENSION*CONTEXT_SIZE)  @ W1 + B1).tanh()\n",
    "        total_logits = total_h @ W2 + B2\n",
    "        total_loss = F.cross_entropy(total_logits, Y)\n",
    "\n",
    "\n",
    "        print(f\"Total loss currently is {total_loss}\")\n",
    "        print(f\"Current learning rate is {learning_rate}\")\n",
    "        \n",
    "        iter.append(i)\n",
    "        lossi.append(total_loss.item())\n",
    "\n",
    "    for param in params:\n",
    "        param.grad=None\n",
    "\n",
    "    loss.backward()\n",
    "\n",
    "    for param in params: \n",
    "        param.data -= param.grad * learning_rate \n",
    "\n",
    "\n",
    "\n",
    "plt.plot(iter,lossi)"
   ]
  },
  {
   "cell_type": "markdown",
   "metadata": {},
   "source": [
    "## MANUAL FINE TUNING WITH SMALL LEARNING RATE"
   ]
  },
  {
   "cell_type": "code",
   "execution_count": null,
   "metadata": {},
   "outputs": [
    {
     "name": "stdout",
     "output_type": "stream",
     "text": [
      "Total loss currently is 2.3016324043273926\n",
      "Current learning rate is 0.005\n",
      "Total loss currently is 2.300856351852417\n",
      "Current learning rate is 0.005\n",
      "Total loss currently is 2.3004424571990967\n",
      "Current learning rate is 0.005\n",
      "Total loss currently is 2.2992706298828125\n",
      "Current learning rate is 0.005\n",
      "Total loss currently is 2.30037522315979\n",
      "Current learning rate is 0.005\n",
      "Total loss currently is 2.2985219955444336\n",
      "Current learning rate is 0.005\n",
      "Total loss currently is 2.3004279136657715\n",
      "Current learning rate is 0.005\n",
      "Total loss currently is 2.299654483795166\n",
      "Current learning rate is 0.005\n",
      "Total loss currently is 2.299203395843506\n",
      "Current learning rate is 0.005\n",
      "Total loss currently is 2.2984459400177\n",
      "Current learning rate is 0.005\n",
      "Total loss currently is 2.2998554706573486\n",
      "Current learning rate is 0.005\n",
      "Total loss currently is 2.2993721961975098\n",
      "Current learning rate is 0.005\n",
      "Total loss currently is 2.299258232116699\n",
      "Current learning rate is 0.005\n",
      "Total loss currently is 2.300025701522827\n",
      "Current learning rate is 0.005\n",
      "Total loss currently is 2.3004515171051025\n",
      "Current learning rate is 0.005\n",
      "Total loss currently is 2.300100564956665\n",
      "Current learning rate is 0.005\n",
      "Total loss currently is 2.299556016921997\n",
      "Current learning rate is 0.005\n",
      "Total loss currently is 2.299625873565674\n",
      "Current learning rate is 0.005\n",
      "Total loss currently is 2.2990572452545166\n",
      "Current learning rate is 0.005\n",
      "Total loss currently is 2.298574924468994\n",
      "Current learning rate is 0.005\n"
     ]
    },
    {
     "data": {
      "text/plain": [
       "[<matplotlib.lines.Line2D at 0x7f786c531710>]"
      ]
     },
     "execution_count": 95,
     "metadata": {},
     "output_type": "execute_result"
    },
    {
     "data": {
      "image/png": "[encoded data removed]",
      "text/plain": [
       "<Figure size 640x480 with 1 Axes>"
      ]
     },
     "metadata": {},
     "output_type": "display_data"
    }
   ],
   "source": [
    "import torch.nn.functional as F\n",
    "\n",
    "\n",
    "MAX_ITER = 10000\n",
    "\n",
    "\n",
    "lossi = []\n",
    "iter = []\n",
    "\n",
    "\n",
    "learning_rates = torch.linspace(0.1,0.01,100)\n",
    "\n",
    "\n",
    "for i in range(MAX_ITER):\n",
    "    # Forward propagation\n",
    "\n",
    "    minibatch = torch.randint(0,X.shape[0],(32,))\n",
    "    h = (C[X[minibatch]].view(-1,EMBEDDING_DIMENSION*CONTEXT_SIZE)  @ W1 + B1).tanh()\n",
    "    logits = h @ W2 + B2\n",
    "    loss = F.cross_entropy(logits, Y[minibatch])\n",
    "\n",
    "    learning_rate = 0.005\n",
    "    \n",
    "    if i % 500==0:\n",
    "        # Calculate total loss\n",
    "        total_h = (C[X].view(-1,EMBEDDING_DIMENSION*CONTEXT_SIZE)  @ W1 + B1).tanh()\n",
    "        total_logits = total_h @ W2 + B2\n",
    "        total_loss = F.cross_entropy(total_logits, Y)\n",
    "\n",
    "        print(f\"Total loss currently is {total_loss}\")\n",
    "        print(f\"Current learning rate is {learning_rate}\")\n",
    "        \n",
    "        iter.append(i)\n",
    "        lossi.append(total_loss.item())\n",
    "\n",
    "    for param in params:\n",
    "        param.grad=None\n",
    "\n",
    "    loss.backward()\n",
    "\n",
    "    for param in params: \n",
    "        param.data -= param.grad * learning_rate \n",
    "\n",
    "\n",
    "\n",
    "plt.plot(iter,lossi)"
   ]
  },
  {
   "cell_type": "markdown",
   "metadata": {},
   "source": [
    "# MAKE TRAINING MORE REPEATABLE"
   ]
  },
  {
   "cell_type": "code",
   "execution_count": null,
   "metadata": {},
   "outputs": [],
   "source": [
    "EMBEDDING_DIMENSION=4\n",
    "CONTEXT_SIZE=3\n",
    "HIDDEN_LAYER_SIZE=300"
   ]
  },
  {
   "cell_type": "code",
   "execution_count": null,
   "metadata": {},
   "outputs": [
    {
     "name": "stdout",
     "output_type": "stream",
     "text": [
      "Total parameters currently in NN 12135\n"
     ]
    },
    {
     "ename": "NameError",
     "evalue": "name 'Xt' is not defined",
     "output_type": "error",
     "traceback": [
      "\u001b[0;31m---------------------------------------------------------------------------\u001b[0m",
      "\u001b[0;31mNameError\u001b[0m                                 Traceback (most recent call last)",
      "Cell \u001b[0;32mIn[111], line 44\u001b[0m\n\u001b[1;32m     37\u001b[0m             param\u001b[38;5;241m.\u001b[39mdata \u001b[38;5;241m-\u001b[39m\u001b[38;5;241m=\u001b[39m param\u001b[38;5;241m.\u001b[39mgrad \u001b[38;5;241m*\u001b[39m \u001b[38;5;241m0.1\u001b[39m\n\u001b[1;32m     41\u001b[0m initialize_global_weights()\n\u001b[0;32m---> 44\u001b[0m train(\u001b[43mXt\u001b[49m)\n",
      "\u001b[0;31mNameError\u001b[0m: name 'Xt' is not defined"
     ]
    }
   ],
   "source": [
    "\n",
    "\n",
    "def initialize_global_weights():\n",
    "    global g, C, W1, B1, W2, B2, params\n",
    "    g = torch.Generator().manual_seed(2147483647)\n",
    "    C = torch.randn(27,EMBEDDING_DIMENSION,generator=g) \n",
    "    W1 = torch.randn(EMBEDDING_DIMENSION*CONTEXT_SIZE,HIDDEN_LAYER_SIZE,generator=g)\n",
    "    B1 = torch.randn(HIDDEN_LAYER_SIZE,generator=g) # Add to every neuron bias\n",
    "    W2 = torch.randn(HIDDEN_LAYER_SIZE,27,generator=g)\n",
    "    B2 = torch.randn(27) # Add to every neuron bias\n",
    "\n",
    "    params = [C,W1,B1,W2,B2]\n",
    "    param_count = sum([p.nelement()  for p in params])\n",
    "\n",
    "    print(f\"Total parameters currently in NN {param_count}\")\n",
    "\n",
    "\n",
    "    for p in params:\n",
    "        p.requires_grad=True\n",
    "\n",
    "# Make all parameters to have gradient \n",
    "\n",
    "\n",
    "def train(X,Y, iterations, learning_rate, batch_size):\n",
    "    for i in range(iterations):\n",
    "        minibatch = torch.randint(0,X.shape[0],(batch_size,))\n",
    "        h = (C[X[minibatch]].view(-1, CONTEXT_SIZE * EMBEDDING_DIMENSION) @ W1 + B1).tanh()\n",
    "        logits = h @ W2 + B2\n",
    "        loss = F.cross_entropy(logits, Y)\n",
    "\n",
    "        print(f\"Total loss currently is {loss}\")\n",
    "\n",
    "        for param in params:\n",
    "            param.grad=None\n",
    "\n",
    "        loss.backward()\n",
    "\n",
    "        for param in params: \n",
    "            param.data -= param.grad * 0.1\n",
    "\n",
    "\n",
    "\n",
    "initialize_global_weights()\n",
    "\n",
    "\n",
    "\n",
    "\n"
   ]
  },
  {
   "cell_type": "markdown",
   "metadata": {},
   "source": [
    "# TRAIN/DEV/TEST SET"
   ]
  },
  {
   "cell_type": "code",
   "execution_count": null,
   "metadata": {},
   "outputs": [],
   "source": [
    "import random\n",
    "random.seed(42)\n",
    "random.shuffle(names)\n",
    "\n",
    "n1 = int(len(names)*0.8)\n",
    "n2 = int(len(names)*0.9)\n",
    "\n",
    "Xtr,Ytr = generate_training_data(names[:n1])\n",
    "Xdv,Ydv = generate_training_data(names[n1:n2])\n",
    "Xts,Yts = generate_training_data(names[n2:])\n"
   ]
  },
  {
   "cell_type": "code",
   "execution_count": null,
   "metadata": {},
   "outputs": [],
   "source": []
  },
  {
   "cell_type": "code",
   "execution_count": null,
   "metadata": {},
   "outputs": [
    {
     "name": "stdout",
     "output_type": "stream",
     "text": [
      "Total parameters currently in NN 8135\n"
     ]
    }
   ],
   "source": []
  },
  {
   "cell_type": "code",
   "execution_count": null,
   "metadata": {},
   "outputs": [],
   "source": []
  }
 ],
 "metadata": {
  "kernelspec": {
   "display_name": "Python 3",
   "language": "python",
   "name": "python3"
  },
  "language_info": {
   "codemirror_mode": {
    "name": "ipython",
    "version": 3
   },
   "file_extension": ".py",
   "mimetype": "text/x-python",
   "name": "python",
   "nbconvert_exporter": "python",
   "pygments_lexer": "ipython3",
   "version": "3.11.5"
  }
 },
 "nbformat": 4,
 "nbformat_minor": 2
}
