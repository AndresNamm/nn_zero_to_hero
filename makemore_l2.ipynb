{
 "cells": [
  {
   "cell_type": "markdown",
   "metadata": {},
   "source": [
    "# SAMPLE RUNTHROUGH"
   ]
  },
  {
   "cell_type": "markdown",
   "metadata": {},
   "source": [
    "## PREPARE DATA"
   ]
  },
  {
   "cell_type": "code",
   "execution_count": 1,
   "metadata": {},
   "outputs": [
    {
     "name": "stdout",
     "output_type": "stream",
     "text": [
      "{'.': 0, 'a': 1, 'b': 2, 'c': 3, 'd': 4, 'e': 5, 'f': 6, 'g': 7, 'h': 8, 'i': 9, 'j': 10, 'k': 11, 'l': 12, 'm': 13, 'n': 14, 'o': 15, 'p': 16, 'q': 17, 'r': 18, 's': 19, 't': 20, 'u': 21, 'v': 22, 'w': 23, 'x': 24, 'y': 25, 'z': 26}\n",
      "{0: '.', 1: 'a', 2: 'b', 3: 'c', 4: 'd', 5: 'e', 6: 'f', 7: 'g', 8: 'h', 9: 'i', 10: 'j', 11: 'k', 12: 'l', 13: 'm', 14: 'n', 15: 'o', 16: 'p', 17: 'q', 18: 'r', 19: 's', 20: 't', 21: 'u', 22: 'v', 23: 'w', 24: 'x', 25: 'y', 26: 'z'}\n"
     ]
    }
   ],
   "source": [
    "with open('data/names.txt') as f:\n",
    "    names = f.readlines()\n",
    "names = [name.strip() for name in names]\n",
    "\n",
    "itos = {}\n",
    "stoi = {}\n",
    "\n",
    "itos[0]='.'\n",
    "stoi['.']=0\n",
    "\n",
    "letters=sorted(list(set(\"\".join(names))))\n",
    "\n",
    "for idx,letter in enumerate(letters):\n",
    "    stoi[letter]=idx+1\n",
    "    itos[idx+1]=letter\n",
    "\n",
    "print(stoi)\n",
    "print(itos)\n",
    "\n"
   ]
  },
  {
   "cell_type": "code",
   "execution_count": 2,
   "metadata": {},
   "outputs": [],
   "source": [
    "# Don't change these parameters, as they are used in the explanation in the SAMPLE RUNTHROUGH part\n",
    "SAMPLE_CONTEXT_SIZE = 3\n",
    "SAMPLE_LETTER_EMBEDDING_SIZE=2\n",
    "SAMPLE_TRAINING_DATA_SIZE=5\n",
    "SAMPLE_HIDDEN_LAYER_NEURONS=100"
   ]
  },
  {
   "cell_type": "code",
   "execution_count": 3,
   "metadata": {},
   "outputs": [],
   "source": [
    "import torch\n",
    "\n",
    "def generate_training_data(names,block_size=3,print_out=False):\n",
    "    X = []\n",
    "    Y = []\n",
    "    for name in names:\n",
    "        name = name + \".\"\n",
    "        context = block_size * [0]\n",
    "        if print_out:\n",
    "            print(name)\n",
    "        for ch in name:\n",
    "            context_str = \"\".join([itos[idx] for idx in context])\n",
    "            predict_str = ch\n",
    "            if print_out:\n",
    "                print(f\"{context_str}-->{predict_str}\")\n",
    "            X.append(context)\n",
    "            Y.append(stoi[ch])\n",
    "            context = context[1:]+[stoi[ch]]\n",
    "    X=torch.tensor(X)\n",
    "    Y=torch.tensor(Y)\n",
    "    return X, Y\n",
    "\n",
    "X,Y = generate_training_data(names[:SAMPLE_TRAINING_DATA_SIZE],SAMPLE_CONTEXT_SIZE)\n",
    "\n"
   ]
  },
  {
   "cell_type": "markdown",
   "metadata": {},
   "source": [
    "We have 32 examples with 3 context letters each"
   ]
  },
  {
   "cell_type": "code",
   "execution_count": 4,
   "metadata": {},
   "outputs": [
    {
     "data": {
      "text/plain": [
       "torch.Size([32, 3])"
      ]
     },
     "execution_count": 4,
     "metadata": {},
     "output_type": "execute_result"
    }
   ],
   "source": [
    "X.shape"
   ]
  },
  {
   "cell_type": "markdown",
   "metadata": {},
   "source": [
    "## START BUILDING THE NEURAL NETWORK"
   ]
  },
  {
   "cell_type": "markdown",
   "metadata": {},
   "source": [
    "### ARCHITECTURE OF NEURAL NETWORK\n",
    "![](./data/img/makemore_l2.png)"
   ]
  },
  {
   "cell_type": "markdown",
   "metadata": {},
   "source": [
    "!ps in second layer ther is 6 rows and 100 cols"
   ]
  },
  {
   "cell_type": "markdown",
   "metadata": {},
   "source": [
    "### CREATE LETTER EMBEDDINGS"
   ]
  },
  {
   "cell_type": "markdown",
   "metadata": {},
   "source": [
    "Represent each letter in alpabeth with 2 dimensional embedding vector. Initialize the embedding vectors randomly."
   ]
  },
  {
   "cell_type": "code",
   "execution_count": 5,
   "metadata": {},
   "outputs": [
    {
     "data": {
      "text/plain": [
       "torch.Size([27, 2])"
      ]
     },
     "execution_count": 5,
     "metadata": {},
     "output_type": "execute_result"
    }
   ],
   "source": [
    "C = torch.randn(27,SAMPLE_LETTER_EMBEDDING_SIZE).float()\n",
    "C.shape"
   ]
  },
  {
   "cell_type": "markdown",
   "metadata": {},
   "source": [
    "Create embeddings \"emb\" for all the training samples for each context word.       \n",
    "The result: A tensor (multidimensional matrix) with dimensions | Train size * Context Size * Letter embedding Size |\n",
    "\n",
    "Where \n",
    "\n",
    "- Train size : How many training examples our data has \n",
    "- Context size : How many previous letters we use to predict the next letter\n",
    "- Letter embedding size : How many dimensions we use to model 1 letter"
   ]
  },
  {
   "cell_type": "code",
   "execution_count": 6,
   "metadata": {},
   "outputs": [
    {
     "data": {
      "text/plain": [
       "torch.Size([32, 3, 2])"
      ]
     },
     "execution_count": 6,
     "metadata": {},
     "output_type": "execute_result"
    }
   ],
   "source": [
    "emb = C[X] \n",
    "# C is 27 * 2\n",
    "# X is 32 * 3 where each value is a letter index from 0-27 \n",
    "# We basically choose a 2 dimensional vector for each letter index in X\n",
    "emb.shape"
   ]
  },
  {
   "cell_type": "markdown",
   "metadata": {},
   "source": [
    "Below is the first training sample context letters as 2 dimensional vectors"
   ]
  },
  {
   "cell_type": "code",
   "execution_count": 7,
   "metadata": {},
   "outputs": [
    {
     "data": {
      "text/plain": [
       "tensor([[-1.1025,  0.6489],\n",
       "        [-1.1025,  0.6489],\n",
       "        [-1.1025,  0.6489]])"
      ]
     },
     "execution_count": 7,
     "metadata": {},
     "output_type": "execute_result"
    }
   ],
   "source": [
    "emb[0]"
   ]
  },
  {
   "cell_type": "markdown",
   "metadata": {},
   "source": [
    "### CREATE NEURON WEIGHTS\n",
    "\n",
    "Each neuron has weight for all context letter all dimensions\n"
   ]
  },
  {
   "cell_type": "code",
   "execution_count": 8,
   "metadata": {},
   "outputs": [
    {
     "data": {
      "text/plain": [
       "torch.Size([6, 100])"
      ]
     },
     "execution_count": 8,
     "metadata": {},
     "output_type": "execute_result"
    }
   ],
   "source": [
    "W1 = torch.randn([SAMPLE_CONTEXT_SIZE*SAMPLE_LETTER_EMBEDDING_SIZE,SAMPLE_HIDDEN_LAYER_NEURONS])\n",
    "W1.shape"
   ]
  },
  {
   "cell_type": "markdown",
   "metadata": {},
   "source": [
    "Let's create bias parameter as well"
   ]
  },
  {
   "cell_type": "code",
   "execution_count": 9,
   "metadata": {},
   "outputs": [
    {
     "data": {
      "text/plain": [
       "torch.Size([100])"
      ]
     },
     "execution_count": 9,
     "metadata": {},
     "output_type": "execute_result"
    }
   ],
   "source": [
    "b1 = torch.randn(SAMPLE_HIDDEN_LAYER_NEURONS) \n",
    "b1.shape"
   ]
  },
  {
   "cell_type": "markdown",
   "metadata": {},
   "source": [
    "### SHAPE TRAINING DATA SO WE COULD MATRIX MULTIPLY IT WITH NEURONS\n",
    "\n",
    "This means the training data rows need to have have as many columns as neurons take inputs."
   ]
  },
  {
   "cell_type": "markdown",
   "metadata": {},
   "source": [
    "**NOT WELL PERFORMING SAMPLE**"
   ]
  },
  {
   "cell_type": "markdown",
   "metadata": {},
   "source": [
    "The unbind operation seems to take a particular dimension and remove it in a way that instead of that dimension you will have that dimension represented in multiple lists for each dimension. It allows us to do easy concatenation."
   ]
  },
  {
   "cell_type": "code",
   "execution_count": 10,
   "metadata": {},
   "outputs": [],
   "source": [
    "training_data = torch.cat(torch.unbind(emb,1),1) "
   ]
  },
  {
   "cell_type": "code",
   "execution_count": 11,
   "metadata": {},
   "outputs": [
    {
     "data": {
      "text/plain": [
       "torch.Size([32, 6])"
      ]
     },
     "execution_count": 11,
     "metadata": {},
     "output_type": "execute_result"
    }
   ],
   "source": [
    "training_data.shape"
   ]
  },
  {
   "cell_type": "markdown",
   "metadata": {},
   "source": [
    "**BETTER PERFORMING SAMPLE** "
   ]
  },
  {
   "cell_type": "markdown",
   "metadata": {},
   "source": [
    "View is a much faster operation compared to cat and bind because it does not need to use extra memory. It is also able to sort of unstack the tensor dimensions"
   ]
  },
  {
   "cell_type": "code",
   "execution_count": 12,
   "metadata": {},
   "outputs": [
    {
     "data": {
      "text/plain": [
       "tensor(True)"
      ]
     },
     "execution_count": 12,
     "metadata": {},
     "output_type": "execute_result"
    }
   ],
   "source": [
    "(torch.eq(training_data, emb.view(-1,6)).all())"
   ]
  },
  {
   "cell_type": "markdown",
   "metadata": {},
   "source": [
    "emb.view(-1,6)"
   ]
  },
  {
   "cell_type": "markdown",
   "metadata": {},
   "source": [
    "### FIRST PART OF FORWARD PROPAGATION\n",
    "\n",
    "Here we flow the data through first 100 neurons. \n",
    "\n",
    "For each sample we now get 100 values. \n"
   ]
  },
  {
   "cell_type": "code",
   "execution_count": 13,
   "metadata": {},
   "outputs": [
    {
     "data": {
      "text/plain": [
       "torch.Size([32, 100])"
      ]
     },
     "execution_count": 13,
     "metadata": {},
     "output_type": "execute_result"
    }
   ],
   "source": [
    "training_data = emb.view(-1,SAMPLE_CONTEXT_SIZE*SAMPLE_LETTER_EMBEDDING_SIZE) \n",
    "h = training_data @ W1 + b1\n",
    "h.shape"
   ]
  },
  {
   "cell_type": "markdown",
   "metadata": {},
   "source": [
    "### COMPLETE ONE TIME FORWARD PASS"
   ]
  },
  {
   "cell_type": "markdown",
   "metadata": {},
   "source": [
    "We create second layer with softmax function. There will be 27 neurons,\n",
    "each neuron output will be a probability for particular letter"
   ]
  },
  {
   "cell_type": "code",
   "execution_count": 14,
   "metadata": {},
   "outputs": [],
   "source": [
    "W2 = torch.randn(100, 27)\n",
    "b2 = torch.randn(27)\n",
    "logits = h.tanh() @ W2 + b2 \n",
    "counts = logits.exp()\n",
    "probs = counts/counts.sum(1,keepdim=True)\n"
   ]
  },
  {
   "cell_type": "markdown",
   "metadata": {},
   "source": [
    "Check that for each training sample the probabilities will equal = 1"
   ]
  },
  {
   "cell_type": "code",
   "execution_count": 15,
   "metadata": {},
   "outputs": [
    {
     "data": {
      "text/plain": [
       "tensor([[1.0000],\n",
       "        [1.0000],\n",
       "        [1.0000],\n",
       "        [1.0000],\n",
       "        [1.0000],\n",
       "        [1.0000],\n",
       "        [1.0000],\n",
       "        [1.0000],\n",
       "        [1.0000],\n",
       "        [1.0000]])"
      ]
     },
     "execution_count": 15,
     "metadata": {},
     "output_type": "execute_result"
    }
   ],
   "source": [
    "probs.sum(1,keepdim=True)[:10]"
   ]
  },
  {
   "cell_type": "markdown",
   "metadata": {},
   "source": [
    "For each X get the probability for the right prediction. If it is low, the loglikelihood will return high loss"
   ]
  },
  {
   "cell_type": "code",
   "execution_count": 16,
   "metadata": {},
   "outputs": [],
   "source": [
    "loss  = -probs[torch.arange(X.shape[0]), Y].log().mean()"
   ]
  },
  {
   "cell_type": "code",
   "execution_count": 17,
   "metadata": {},
   "outputs": [
    {
     "data": {
      "text/plain": [
       "tensor(15.2392)"
      ]
     },
     "execution_count": 17,
     "metadata": {},
     "output_type": "execute_result"
    }
   ],
   "source": [
    "loss"
   ]
  },
  {
   "cell_type": "markdown",
   "metadata": {},
   "source": [
    "## QUESTIONS\n",
    "\n",
    "\n",
    "### QUESTION 1\n",
    "\n",
    "- Are dimension mapping for each particular letter parameters in this neural network? \n",
    "\n",
    "\n",
    "### QUESTION 2\n",
    "\n",
    "- If our dataset has 200 training examples. Each letter is mapped to 2 dimensions. We will have 100 neurons in middle layer and 27 neurons in the output layer. How many times for we update gradient for 1 character 1 dimension ?"
   ]
  },
  {
   "cell_type": "markdown",
   "metadata": {},
   "source": [
    "## ANSWERS \n",
    "\n",
    "\n",
    "### ANSWER 1\n",
    "\n",
    "- Yes, these are All dimensions for the 27 letters . These we will update in each training run to reduce loss. These parameters affect the multiplication with each neuron in the first hidden layer. \n",
    "\n",
    "### ANSWER 2 \n",
    "\n",
    "Letter Dimension for one of the 27 layers is an instance shared among multiple training sample pairs. The cost function is calculated as comparison between all the training sample pairs. So if if specific word occurs in a training sample pair, then it's dimensions will also occur in the training sample pair which means it there is going to be a gradient update. \n",
    "In addition, the letter dimension will be input to 100 neurons. So for each neuron there willl be also gradient update based on that training sample pair. .    \n",
    "- In total, anwswer is going to be TRAINING_SET_OCCURENCES * OUTPUT_NEURONS_FOR_LETTER_EMBEDDINGS which in this case is 200 * 100  . More info on my [YT explanation](https://www.youtube.com/watch?v=KUw20-24YNE&ab_channel=AndresNamm)"
   ]
  },
  {
   "cell_type": "markdown",
   "metadata": {},
   "source": [
    "# MORE RESPECTABLE VERSION OF NEURAL NETWORK + TRAINING"
   ]
  },
  {
   "cell_type": "markdown",
   "metadata": {},
   "source": [
    "Lets define some default hyperparameters"
   ]
  },
  {
   "cell_type": "code",
   "execution_count": 18,
   "metadata": {},
   "outputs": [],
   "source": [
    "EMBEDDING_DIMENSION = 2\n",
    "CONTEXT_SIZE = 3\n",
    "TRAINING_SIZE = -1 # -1 means all data\n",
    "HIDDEN_LAYER_SIZE = 100\n",
    "BATCH_SIZE = 30"
   ]
  },
  {
   "cell_type": "markdown",
   "metadata": {},
   "source": [
    "Let us now generate new training data"
   ]
  },
  {
   "cell_type": "code",
   "execution_count": 19,
   "metadata": {},
   "outputs": [
    {
     "name": "stdout",
     "output_type": "stream",
     "text": [
      "X shape torch.Size([228140, 3])\n",
      "Y shape torch.Size([228140])\n"
     ]
    }
   ],
   "source": [
    "X,Y = generate_training_data(names[:TRAINING_SIZE], block_size=CONTEXT_SIZE,print_out=False)\n",
    "\n",
    "print(f\"X shape {X.shape}\")\n",
    "print(f\"Y shape {Y.shape}\")"
   ]
  },
  {
   "cell_type": "markdown",
   "metadata": {},
   "source": [
    "Initialize parameters"
   ]
  },
  {
   "cell_type": "code",
   "execution_count": 20,
   "metadata": {},
   "outputs": [
    {
     "name": "stdout",
     "output_type": "stream",
     "text": [
      "Total parameters currently in NN 3481\n"
     ]
    }
   ],
   "source": [
    "g = torch.Generator().manual_seed(2147483647)\n",
    "C = torch.randn(27,EMBEDDING_DIMENSION,generator=g) \n",
    "W1 = torch.randn(EMBEDDING_DIMENSION*CONTEXT_SIZE,HIDDEN_LAYER_SIZE,generator=g)\n",
    "B1 = torch.randn(HIDDEN_LAYER_SIZE,generator=g) # Add to every neuron bias\n",
    "W2 = torch.randn(HIDDEN_LAYER_SIZE,27,generator=g)\n",
    "B2 = torch.randn(27) # Add to every neuron bias\n",
    "\n",
    "params = [C,W1,B1,W2,B2]\n",
    "param_count = sum([p.nelement()  for p in params])\n",
    "print(f\"Total parameters currently in NN {param_count}\")\n",
    "\n",
    "for p in params:\n",
    "    p.requires_grad=True\n",
    "\n",
    "\n"
   ]
  },
  {
   "cell_type": "markdown",
   "metadata": {},
   "source": [
    "## TRAINING WITH FULL DATA"
   ]
  },
  {
   "cell_type": "code",
   "execution_count": 21,
   "metadata": {},
   "outputs": [
    {
     "name": "stdout",
     "output_type": "stream",
     "text": [
      "Total loss currently is 19.22492027282715\n",
      "Total loss currently is 16.739717483520508\n",
      "Total loss currently is 15.410748481750488\n"
     ]
    },
    {
     "name": "stdout",
     "output_type": "stream",
     "text": [
      "Total loss currently is 14.447917938232422\n",
      "Total loss currently is 13.65699577331543\n",
      "This is too slow, let's implement the minibatch approach\n"
     ]
    }
   ],
   "source": [
    "import torch.nn.functional as F\n",
    "\n",
    "for i in range(100):\n",
    "    # Forward propagation\n",
    "    h = (C[X].view(-1,EMBEDDING_DIMENSION*CONTEXT_SIZE)  @ W1 + B1).tanh()\n",
    "    logits = h @ W2 + B2\n",
    "    # manual method\n",
    "    # counts = logits.exp()\n",
    "    # probs = counts/counts.sum(1,keepdim=True)\n",
    "    # loss += -probs[torch.arange(len(X)),Y].log().mean()\n",
    "    loss = F.cross_entropy(logits, Y)\n",
    "\n",
    "    print(f\"Total loss currently is {loss}\")\n",
    "    for param in params:\n",
    "        param.grad=None\n",
    "\n",
    "    loss.backward()\n",
    "\n",
    "    for param in params: \n",
    "        param.data -= param.grad * 0.1#type:ignore\n",
    "\n",
    "    if i > 3:\n",
    "        print(\"This is too slow, let's implement the minibatch approach\")\n",
    "        break\n"
   ]
  },
  {
   "cell_type": "markdown",
   "metadata": {},
   "source": [
    "## TRAINING WITH MINIBATCHES"
   ]
  },
  {
   "cell_type": "code",
   "execution_count": 22,
   "metadata": {},
   "outputs": [
    {
     "name": "stdout",
     "output_type": "stream",
     "text": [
      "Iteration 0: Total loss currently is 13.396723747253418\n",
      "Iteration 10: Total loss currently is 8.574848175048828\n",
      "Iteration 20: Total loss currently is 8.832195281982422\n",
      "Iteration 30: Total loss currently is 8.166769027709961\n"
     ]
    },
    {
     "name": "stdout",
     "output_type": "stream",
     "text": [
      "Iteration 40: Total loss currently is 6.328649044036865\n",
      "Iteration 50: Total loss currently is 5.063730716705322\n",
      "Iteration 60: Total loss currently is 4.034274578094482\n",
      "Iteration 70: Total loss currently is 3.1981372833251953\n",
      "Iteration 80: Total loss currently is 4.323698997497559\n",
      "Iteration 90: Total loss currently is 3.792689561843872\n"
     ]
    }
   ],
   "source": [
    "import torch.nn.functional as F\n",
    "\n",
    "for i in range(100):\n",
    "    # Forward propagation\n",
    "\n",
    "    minibatch = torch.randint(0,X.shape[0],(31,))\n",
    "    h = (C[X[minibatch]].view(-1,EMBEDDING_DIMENSION*CONTEXT_SIZE)  @ W1 + B1).tanh()\n",
    "    logits = h @ W2 + B2\n",
    "    loss = F.cross_entropy(logits, Y[minibatch])\n",
    "\n",
    "    if i % 10 == 0:\n",
    "        print(f\"Iteration {i}: Total loss currently is {loss}\")\n",
    "\n",
    "    for param in params:\n",
    "        param.grad=None\n",
    "\n",
    "    loss.backward()\n",
    "\n",
    "    for param in params: \n",
    "        param.data -= param.grad * 0.1 #type: ignore\n",
    "\n"
   ]
  },
  {
   "cell_type": "markdown",
   "metadata": {},
   "source": [
    "## TRYING TO FIND THE BEST LEARNING RATE"
   ]
  },
  {
   "cell_type": "code",
   "execution_count": 23,
   "metadata": {},
   "outputs": [
    {
     "data": {
      "text/plain": [
       "[<matplotlib.lines.Line2D at 0x7f77ddb14310>]"
      ]
     },
     "execution_count": 23,
     "metadata": {},
     "output_type": "execute_result"
    },
    {
     "data": {
      "image/png": "[encoded data removed]",
      "text/plain": [
       "<Figure size 640x480 with 1 Axes>"
      ]
     },
     "metadata": {},
     "output_type": "display_data"
    }
   ],
   "source": [
    "import matplotlib.pyplot as plt\n",
    "%matplotlib inline\n",
    "import torch.nn.functional as F\n",
    "\n",
    "lre = torch.linspace(-3,-0,1000)\n",
    "lr = 10 ** lre\n",
    "plt.title(\"Potential learning rates\")\n",
    "plt.plot(lr)"
   ]
  },
  {
   "cell_type": "code",
   "execution_count": 24,
   "metadata": {},
   "outputs": [
    {
     "name": "stdout",
     "output_type": "stream",
     "text": [
      "Total loss currently is 3.676633834838867\n",
      "Total loss currently is 3.9209787845611572\n",
      "Total loss currently is 3.442621946334839\n",
      "Total loss currently is 2.9744904041290283\n",
      "Total loss currently is 3.1302969455718994\n",
      "Total loss currently is 3.4877076148986816\n",
      "Total loss currently is 3.259958267211914\n",
      "Total loss currently is 3.2040228843688965\n",
      "Total loss currently is 3.2374627590179443\n",
      "Total loss currently is 3.519285202026367\n"
     ]
    }
   ],
   "source": [
    "lri = []\n",
    "lossi = []\n",
    "\n",
    "for i in range(1000):\n",
    "    # Forward propagation\n",
    "\n",
    "    minibatch = torch.randint(0,X.shape[0],(31,))\n",
    "    h = (C[X[minibatch]].view(-1,EMBEDDING_DIMENSION*CONTEXT_SIZE)  @ W1 + B1).tanh()\n",
    "    logits = h @ W2 + B2\n",
    "    loss = F.cross_entropy(logits, Y[minibatch])\n",
    "\n",
    "    if i % 100==0:\n",
    "        print(f\"Total loss currently is {loss}\")\n",
    "\n",
    "    for param in params:\n",
    "        param.grad=None\n",
    "\n",
    "    loss.backward()\n",
    "\n",
    "    for param in params: \n",
    "        param.data -= param.grad * lr[i]\n",
    "\n",
    "    lri.append(lr[i])\n",
    "    lossi.append(loss.item())\n"
   ]
  },
  {
   "cell_type": "markdown",
   "metadata": {},
   "source": [
    "We choose the learning rate from area where we see the loss is generally low. \n",
    "This method might not be mathematically super provable but visually here we actually find area where loss in general is low and gives us good estimation"
   ]
  },
  {
   "cell_type": "code",
   "execution_count": 25,
   "metadata": {},
   "outputs": [
    {
     "data": {
      "text/plain": [
       "[<matplotlib.lines.Line2D at 0x7f77ddb884d0>]"
      ]
     },
     "execution_count": 25,
     "metadata": {},
     "output_type": "execute_result"
    },
    {
     "data": {
      "image/png": "[encoded data removed]",
      "text/plain": [
       "<Figure size 640x480 with 1 Axes>"
      ]
     },
     "metadata": {},
     "output_type": "display_data"
    }
   ],
   "source": [
    "plt.plot(lri,lossi)"
   ]
  },
  {
   "cell_type": "markdown",
   "metadata": {},
   "source": [
    "# FURTHER TUNING TRAINING TO GET LOWEST LOSS POSSIBLE SCORE"
   ]
  },
  {
   "cell_type": "code",
   "execution_count": 27,
   "metadata": {},
   "outputs": [
    {
     "name": "stdout",
     "output_type": "stream",
     "text": [
      "['/home/njx4489/repod/nn_zero_to_hero', '/home/njx4489/.pyenv/versions/3.11.8/lib/python311.zip', '/home/njx4489/.pyenv/versions/3.11.8/lib/python3.11', '/home/njx4489/.pyenv/versions/3.11.8/lib/python3.11/lib-dynload', '', '/home/njx4489/.pyenv/versions/3.11.8/lib/python3.11/site-packages']\n"
     ]
    }
   ],
   "source": [
    "import sys\n",
    "\n",
    "\n",
    "# print pythonpath\n",
    "print(sys.path)"
   ]
  },
  {
   "cell_type": "markdown",
   "metadata": {},
   "source": [
    "## MAKE THE TRAINING EVEN MORE PROPER"
   ]
  },
  {
   "cell_type": "code",
   "execution_count": null,
   "metadata": {},
   "outputs": [],
   "source": []
  },
  {
   "cell_type": "code",
   "execution_count": null,
   "metadata": {},
   "outputs": [],
   "source": []
  },
  {
   "cell_type": "markdown",
   "metadata": {},
   "source": [
    "## MANUAL FINE TUNING WITH SMALL LEARNING RATE"
   ]
  },
  {
   "cell_type": "code",
   "execution_count": 29,
   "metadata": {},
   "outputs": [
    {
     "name": "stdout",
     "output_type": "stream",
     "text": [
      "Total loss currently is 2.4351983070373535\n",
      "Current learning rate is 0.005\n",
      "Total loss currently is 2.3681259155273438\n",
      "Current learning rate is 0.005\n",
      "Total loss currently is 2.3545587062835693\n",
      "Current learning rate is 0.005\n",
      "Total loss currently is 2.348069429397583\n",
      "Current learning rate is 0.005\n",
      "Total loss currently is 2.344254970550537\n",
      "Current learning rate is 0.005\n",
      "Total loss currently is 2.3407742977142334\n",
      "Current learning rate is 0.005\n",
      "Total loss currently is 2.339146852493286\n",
      "Current learning rate is 0.005\n",
      "Total loss currently is 2.3376145362854004\n",
      "Current learning rate is 0.005\n",
      "Total loss currently is 2.3366456031799316\n",
      "Current learning rate is 0.005\n",
      "Total loss currently is 2.335479259490967\n",
      "Current learning rate is 0.005\n",
      "Total loss currently is 2.3346498012542725\n",
      "Current learning rate is 0.005\n",
      "Total loss currently is 2.3341665267944336\n",
      "Current learning rate is 0.005\n",
      "Total loss currently is 2.333571195602417\n",
      "Current learning rate is 0.005\n",
      "Total loss currently is 2.3328487873077393\n",
      "Current learning rate is 0.005\n",
      "Total loss currently is 2.3327524662017822\n",
      "Current learning rate is 0.005\n",
      "Total loss currently is 2.3321847915649414\n",
      "Current learning rate is 0.005\n",
      "Total loss currently is 2.33195161819458\n",
      "Current learning rate is 0.005\n",
      "Total loss currently is 2.3314943313598633\n",
      "Current learning rate is 0.005\n",
      "Total loss currently is 2.331493854522705\n",
      "Current learning rate is 0.005\n",
      "Total loss currently is 2.3315250873565674\n",
      "Current learning rate is 0.005\n"
     ]
    },
    {
     "data": {
      "text/plain": [
       "[<matplotlib.lines.Line2D at 0x7f162dcd7950>]"
      ]
     },
     "execution_count": 29,
     "metadata": {},
     "output_type": "execute_result"
    },
    {
     "data": {
      "image/png": "[encoded data removed]",
      "text/plain": [
       "<Figure size 640x480 with 1 Axes>"
      ]
     },
     "metadata": {},
     "output_type": "display_data"
    }
   ],
   "source": [
    "import torch.nn.functional as F\n",
    "\n",
    "\n",
    "MAX_ITER = 10000\n",
    "\n",
    "\n",
    "lossi = []\n",
    "iter = []\n",
    "\n",
    "\n",
    "learning_rates = torch.linspace(0.1,0.01,100)\n",
    "\n",
    "\n",
    "for i in range(MAX_ITER):\n",
    "    # Forward propagation\n",
    "\n",
    "    minibatch = torch.randint(0,X.shape[0],(32,))\n",
    "    h = (C[X[minibatch]].view(-1,EMBEDDING_DIMENSION*CONTEXT_SIZE)  @ W1 + B1).tanh()\n",
    "    logits = h @ W2 + B2\n",
    "    loss = F.cross_entropy(logits, Y[minibatch])\n",
    "\n",
    "    learning_rate = 0.005\n",
    "    \n",
    "    if i % 500==0:\n",
    "        # Calculate total loss\n",
    "        total_h = (C[X].view(-1,EMBEDDING_DIMENSION*CONTEXT_SIZE)  @ W1 + B1).tanh()\n",
    "        total_logits = total_h @ W2 + B2\n",
    "        total_loss = F.cross_entropy(total_logits, Y)\n",
    "\n",
    "        print(f\"Total loss currently is {total_loss}\")\n",
    "        print(f\"Current learning rate is {learning_rate}\")\n",
    "        \n",
    "        iter.append(i)\n",
    "        lossi.append(total_loss.item())\n",
    "\n",
    "    for param in params:\n",
    "        param.grad=None\n",
    "\n",
    "    loss.backward()\n",
    "\n",
    "    for param in params: \n",
    "        param.data -= param.grad * learning_rate \n",
    "\n",
    "\n",
    "\n",
    "plt.plot(iter,lossi)"
   ]
  },
  {
   "cell_type": "markdown",
   "metadata": {},
   "source": [
    "# TRAIN/DEV/TEST SET"
   ]
  },
  {
   "cell_type": "code",
   "execution_count": 32,
   "metadata": {},
   "outputs": [],
   "source": [
    "import random\n",
    "random.seed(42)\n",
    "random.shuffle(names)\n",
    "\n",
    "n1 = int(len(names)*0.8)\n",
    "n2 = int(len(names)*0.9)\n",
    "\n",
    "Xtr,Ytr = generate_training_data(names[:n1])\n",
    "Xdv,Ydv = generate_training_data(names[n1:n2])\n",
    "Xts,Yts = generate_training_data(names[n2:])\n"
   ]
  },
  {
   "cell_type": "code",
   "execution_count": null,
   "metadata": {},
   "outputs": [],
   "source": []
  },
  {
   "cell_type": "code",
   "execution_count": null,
   "metadata": {},
   "outputs": [],
   "source": []
  },
  {
   "cell_type": "code",
   "execution_count": null,
   "metadata": {},
   "outputs": [],
   "source": []
  }
 ],
 "metadata": {
  "kernelspec": {
   "display_name": "Python 3",
   "language": "python",
   "name": "python3"
  },
  "language_info": {
   "codemirror_mode": {
    "name": "ipython",
    "version": 3
   },
   "file_extension": ".py",
   "mimetype": "text/x-python",
   "name": "python",
   "nbconvert_exporter": "python",
   "pygments_lexer": "ipython3",
   "version": "3.11.8"
  }
 },
 "nbformat": 4,
 "nbformat_minor": 2
}
