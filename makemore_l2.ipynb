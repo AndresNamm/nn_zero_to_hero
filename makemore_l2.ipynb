{
 "cells": [
  {
   "cell_type": "markdown",
   "metadata": {},
   "source": [
    "# SAMPLE RUNTHROUGH"
   ]
  },
  {
   "cell_type": "markdown",
   "metadata": {},
   "source": [
    "## PREPARE DATA"
   ]
  },
  {
   "cell_type": "code",
   "execution_count": 1,
   "metadata": {},
   "outputs": [
    {
     "name": "stdout",
     "output_type": "stream",
     "text": [
      "{'.': 0, 'a': 1, 'b': 2, 'c': 3, 'd': 4, 'e': 5, 'f': 6, 'g': 7, 'h': 8, 'i': 9, 'j': 10, 'k': 11, 'l': 12, 'm': 13, 'n': 14, 'o': 15, 'p': 16, 'q': 17, 'r': 18, 's': 19, 't': 20, 'u': 21, 'v': 22, 'w': 23, 'x': 24, 'y': 25, 'z': 26}\n",
      "{0: '.', 1: 'a', 2: 'b', 3: 'c', 4: 'd', 5: 'e', 6: 'f', 7: 'g', 8: 'h', 9: 'i', 10: 'j', 11: 'k', 12: 'l', 13: 'm', 14: 'n', 15: 'o', 16: 'p', 17: 'q', 18: 'r', 19: 's', 20: 't', 21: 'u', 22: 'v', 23: 'w', 24: 'x', 25: 'y', 26: 'z'}\n"
     ]
    }
   ],
   "source": [
    "with open('data/names.txt') as f:\n",
    "    names = f.readlines()\n",
    "names = [name.strip() for name in names]\n",
    "\n",
    "itos = {}\n",
    "stoi = {}\n",
    "\n",
    "itos[0]='.'\n",
    "stoi['.']=0\n",
    "\n",
    "letters=sorted(list(set(\"\".join(names))))\n",
    "\n",
    "for idx,letter in enumerate(letters):\n",
    "    stoi[letter]=idx+1\n",
    "    itos[idx+1]=letter\n",
    "\n",
    "print(stoi)\n",
    "print(itos)\n",
    "\n"
   ]
  },
  {
   "cell_type": "code",
   "execution_count": 2,
   "metadata": {},
   "outputs": [],
   "source": [
    "# Don't change these parameters, as they are used in the explanation in the SAMPLE RUNTHROUGH part\n",
    "SAMPLE_CONTEXT_SIZE = 3\n",
    "SAMPLE_LETTER_EMBEDDING_SIZE=2\n",
    "SAMPLE_TRAINING_DATA_SIZE=5\n",
    "SAMPLE_HIDDEN_LAYER_NEURONS=100"
   ]
  },
  {
   "cell_type": "code",
   "execution_count": 3,
   "metadata": {},
   "outputs": [
    {
     "name": "stdout",
     "output_type": "stream",
     "text": [
      "emma.\n",
      "...-->e\n",
      "..e-->m\n",
      ".em-->m\n",
      "emm-->a\n",
      "mma-->.\n",
      "olivia.\n",
      "...-->o\n",
      "..o-->l\n",
      ".ol-->i\n",
      "oli-->v\n",
      "liv-->i\n",
      "ivi-->a\n",
      "via-->.\n",
      "ava.\n",
      "...-->a\n",
      "..a-->v\n",
      ".av-->a\n",
      "ava-->.\n"
     ]
    }
   ],
   "source": [
    "import torch\n",
    "\n",
    "def generate_training_data(names,context_size=3,print_out=False):\n",
    "    X = []\n",
    "    Y = []\n",
    "    for name in names:\n",
    "        name = name + \".\"\n",
    "        context = context_size * [0]\n",
    "        if print_out:\n",
    "            print(name)\n",
    "        for ch in name:\n",
    "            context_str = \"\".join([itos[idx] for idx in context])\n",
    "            predict_str = ch\n",
    "            if print_out:\n",
    "                print(f\"{context_str}-->{predict_str}\")\n",
    "            X.append(context)\n",
    "            Y.append(stoi[ch])\n",
    "            context = context[1:]+[stoi[ch]]\n",
    "    X=torch.tensor(X)\n",
    "    Y=torch.tensor(Y)\n",
    "    return X, Y\n",
    "\n",
    "X,Y = generate_training_data(names[:3],3, True)\n",
    "\n"
   ]
  },
  {
   "cell_type": "code",
   "execution_count": 4,
   "metadata": {},
   "outputs": [],
   "source": [
    "X,Y = generate_training_data(names[:SAMPLE_TRAINING_DATA_SIZE],SAMPLE_CONTEXT_SIZE)"
   ]
  },
  {
   "cell_type": "markdown",
   "metadata": {},
   "source": [
    "We have 32 examples with 3 context letters each"
   ]
  },
  {
   "cell_type": "code",
   "execution_count": 5,
   "metadata": {},
   "outputs": [
    {
     "data": {
      "text/plain": [
       "torch.Size([32, 3])"
      ]
     },
     "execution_count": 5,
     "metadata": {},
     "output_type": "execute_result"
    }
   ],
   "source": [
    "X.shape"
   ]
  },
  {
   "cell_type": "code",
   "execution_count": 6,
   "metadata": {},
   "outputs": [
    {
     "data": {
      "text/plain": [
       "torch.Size([32])"
      ]
     },
     "execution_count": 6,
     "metadata": {},
     "output_type": "execute_result"
    }
   ],
   "source": [
    "Y.shape"
   ]
  },
  {
   "cell_type": "markdown",
   "metadata": {},
   "source": [
    "## START BUILDING THE NEURAL NETWORK"
   ]
  },
  {
   "cell_type": "markdown",
   "metadata": {},
   "source": [
    "### ARCHITECTURE OF NEURAL NETWORK\n",
    "![](./data/img/makemore_l2.png)"
   ]
  },
  {
   "cell_type": "markdown",
   "metadata": {},
   "source": [
    "!ps in second layer ther is 6 rows and 100 cols"
   ]
  },
  {
   "cell_type": "markdown",
   "metadata": {},
   "source": [
    "### CREATE LETTER EMBEDDINGS"
   ]
  },
  {
   "cell_type": "markdown",
   "metadata": {},
   "source": [
    "Represent each letter in alpabeth with 2 dimensional embedding vector. Initialize the embedding vectors randomly."
   ]
  },
  {
   "cell_type": "code",
   "execution_count": 7,
   "metadata": {},
   "outputs": [
    {
     "data": {
      "text/plain": [
       "torch.Size([27, 2])"
      ]
     },
     "execution_count": 7,
     "metadata": {},
     "output_type": "execute_result"
    }
   ],
   "source": [
    "C = torch.randn(27,SAMPLE_LETTER_EMBEDDING_SIZE).float()\n",
    "C.shape"
   ]
  },
  {
   "cell_type": "markdown",
   "metadata": {},
   "source": [
    "Create embeddings \"emb\" for all the training samples for each context word.       \n",
    "The result: A tensor (multidimensional matrix) with dimensions | Train size * Context Size * Letter embedding Size |\n",
    "\n",
    "Where \n",
    "\n",
    "- Train size : How many training examples our data has \n",
    "- Context size : How many previous letters we use to predict the next letter\n",
    "- Letter embedding size : How many dimensions we use to model 1 letter"
   ]
  },
  {
   "cell_type": "code",
   "execution_count": 8,
   "metadata": {},
   "outputs": [
    {
     "data": {
      "text/plain": [
       "torch.Size([32, 3, 2])"
      ]
     },
     "execution_count": 8,
     "metadata": {},
     "output_type": "execute_result"
    }
   ],
   "source": [
    "emb = C[X] \n",
    "# C is 27 * 2\n",
    "# X is 32 * 3 where each value is a letter index from 0-27 \n",
    "# We basically choose a 2 dimensional vector for each letter index in X\n",
    "emb.shape"
   ]
  },
  {
   "cell_type": "markdown",
   "metadata": {},
   "source": [
    "Below is the first training sample context letters as 2 dimensional vectors"
   ]
  },
  {
   "cell_type": "code",
   "execution_count": 9,
   "metadata": {},
   "outputs": [
    {
     "data": {
      "text/plain": [
       "tensor([[ 1.0299, -0.0969],\n",
       "        [ 1.0299, -0.0969],\n",
       "        [ 1.0299, -0.0969]])"
      ]
     },
     "execution_count": 9,
     "metadata": {},
     "output_type": "execute_result"
    }
   ],
   "source": [
    "emb[0]"
   ]
  },
  {
   "cell_type": "markdown",
   "metadata": {},
   "source": [
    "### CREATE NEURON WEIGHTS\n",
    "\n",
    "Each neuron has weight for all context letter all dimensions\n"
   ]
  },
  {
   "cell_type": "code",
   "execution_count": 10,
   "metadata": {},
   "outputs": [
    {
     "data": {
      "text/plain": [
       "torch.Size([6, 100])"
      ]
     },
     "execution_count": 10,
     "metadata": {},
     "output_type": "execute_result"
    }
   ],
   "source": [
    "W1 = torch.randn([SAMPLE_CONTEXT_SIZE*SAMPLE_LETTER_EMBEDDING_SIZE,SAMPLE_HIDDEN_LAYER_NEURONS])\n",
    "W1.shape"
   ]
  },
  {
   "cell_type": "markdown",
   "metadata": {},
   "source": [
    "Let's create bias parameter as well"
   ]
  },
  {
   "cell_type": "code",
   "execution_count": 11,
   "metadata": {},
   "outputs": [
    {
     "data": {
      "text/plain": [
       "torch.Size([100])"
      ]
     },
     "execution_count": 11,
     "metadata": {},
     "output_type": "execute_result"
    }
   ],
   "source": [
    "b1 = torch.randn(SAMPLE_HIDDEN_LAYER_NEURONS) \n",
    "b1.shape"
   ]
  },
  {
   "cell_type": "markdown",
   "metadata": {},
   "source": [
    "### SHAPE TRAINING DATA SO WE COULD MATRIX MULTIPLY IT WITH NEURONS\n",
    "\n",
    "This means the training data rows need to have have as many columns as neurons take inputs."
   ]
  },
  {
   "cell_type": "markdown",
   "metadata": {},
   "source": [
    "**NOT WELL PERFORMING SAMPLE**"
   ]
  },
  {
   "cell_type": "markdown",
   "metadata": {},
   "source": [
    "The unbind operation seems to take a particular dimension and remove it in a way that instead of that dimension you will have that dimension represented in multiple lists for each dimension. It allows us to do easy concatenation."
   ]
  },
  {
   "cell_type": "code",
   "execution_count": 12,
   "metadata": {},
   "outputs": [],
   "source": [
    "training_data = torch.cat(torch.unbind(emb,1),1) "
   ]
  },
  {
   "cell_type": "code",
   "execution_count": 13,
   "metadata": {},
   "outputs": [
    {
     "data": {
      "text/plain": [
       "torch.Size([32, 6])"
      ]
     },
     "execution_count": 13,
     "metadata": {},
     "output_type": "execute_result"
    }
   ],
   "source": [
    "training_data.shape"
   ]
  },
  {
   "cell_type": "markdown",
   "metadata": {},
   "source": [
    "**BETTER PERFORMING SAMPLE** "
   ]
  },
  {
   "cell_type": "markdown",
   "metadata": {},
   "source": [
    "View is a much faster operation compared to cat and bind because it does not need to use extra memory. It is also able to sort of unstack the tensor dimensions"
   ]
  },
  {
   "cell_type": "code",
   "execution_count": 14,
   "metadata": {},
   "outputs": [
    {
     "data": {
      "text/plain": [
       "tensor(True)"
      ]
     },
     "execution_count": 14,
     "metadata": {},
     "output_type": "execute_result"
    }
   ],
   "source": [
    "(torch.eq(training_data, emb.view(-1,6)).all())"
   ]
  },
  {
   "cell_type": "markdown",
   "metadata": {},
   "source": [
    "emb.view(-1,6)"
   ]
  },
  {
   "cell_type": "markdown",
   "metadata": {},
   "source": [
    "### FIRST PART OF FORWARD PROPAGATION\n",
    "\n",
    "Here we flow the data through first 100 neurons. \n",
    "\n",
    "For each sample we now get 100 values. \n"
   ]
  },
  {
   "cell_type": "code",
   "execution_count": 15,
   "metadata": {},
   "outputs": [
    {
     "data": {
      "text/plain": [
       "torch.Size([32, 100])"
      ]
     },
     "execution_count": 15,
     "metadata": {},
     "output_type": "execute_result"
    }
   ],
   "source": [
    "training_data = emb.view(-1,SAMPLE_CONTEXT_SIZE*SAMPLE_LETTER_EMBEDDING_SIZE) \n",
    "h = training_data @ W1 + b1\n",
    "h.shape"
   ]
  },
  {
   "cell_type": "markdown",
   "metadata": {},
   "source": [
    "### COMPLETE ONE TIME FORWARD PASS"
   ]
  },
  {
   "cell_type": "markdown",
   "metadata": {},
   "source": [
    "We create second layer with softmax function. There will be 27 neurons,\n",
    "each neuron output will be a probability for particular letter"
   ]
  },
  {
   "cell_type": "code",
   "execution_count": 16,
   "metadata": {},
   "outputs": [],
   "source": [
    "W2 = torch.randn(100, 27)\n",
    "b2 = torch.randn(27)\n",
    "logits = h.tanh() @ W2 + b2 \n",
    "counts = logits.exp()\n",
    "probs = counts/counts.sum(1,keepdim=True)\n"
   ]
  },
  {
   "cell_type": "code",
   "execution_count": 17,
   "metadata": {},
   "outputs": [
    {
     "data": {
      "text/plain": [
       "[<matplotlib.lines.Line2D at 0x7f676286ef10>]"
      ]
     },
     "execution_count": 17,
     "metadata": {},
     "output_type": "execute_result"
    },
    {
     "data": {
      "image/png": "[encoded data removed]",
      "text/plain": [
       "<Figure size 640x480 with 1 Axes>"
      ]
     },
     "metadata": {},
     "output_type": "display_data"
    }
   ],
   "source": [
    "# Quick example of exponent function visualized\n",
    "\n",
    "import matplotlib as plt\n",
    "\n",
    "import numpy as np\n",
    "import matplotlib.pyplot as plt\n",
    "\n",
    "x = np.linspace(-10,10,100)\n",
    "\n",
    "plt.plot(x,np.exp(x))\n"
   ]
  },
  {
   "cell_type": "markdown",
   "metadata": {},
   "source": [
    "Check that for each training sample the probabilities will equal = 1"
   ]
  },
  {
   "cell_type": "code",
   "execution_count": 18,
   "metadata": {},
   "outputs": [
    {
     "data": {
      "text/plain": [
       "tensor([[1.0000],\n",
       "        [1.0000],\n",
       "        [1.0000],\n",
       "        [1.0000],\n",
       "        [1.0000],\n",
       "        [1.0000],\n",
       "        [1.0000],\n",
       "        [1.0000],\n",
       "        [1.0000],\n",
       "        [1.0000]])"
      ]
     },
     "execution_count": 18,
     "metadata": {},
     "output_type": "execute_result"
    }
   ],
   "source": [
    "probs.sum(1,keepdim=True)[:10]"
   ]
  },
  {
   "cell_type": "markdown",
   "metadata": {},
   "source": [
    "For each X get the probability for the right prediction. If it is low, the loglikelihood will return high loss"
   ]
  },
  {
   "cell_type": "code",
   "execution_count": 19,
   "metadata": {},
   "outputs": [],
   "source": [
    "loss  = -probs[torch.arange(X.shape[0]), Y].log().mean()"
   ]
  },
  {
   "cell_type": "code",
   "execution_count": 20,
   "metadata": {},
   "outputs": [
    {
     "data": {
      "text/plain": [
       "tensor(16.2035)"
      ]
     },
     "execution_count": 20,
     "metadata": {},
     "output_type": "execute_result"
    }
   ],
   "source": [
    "loss"
   ]
  },
  {
   "cell_type": "markdown",
   "metadata": {},
   "source": [
    "## QUESTIONS\n",
    "\n",
    "\n",
    "### QUESTION 1\n",
    "\n",
    "- Are dimension mapping for each particular letter parameters in this neural network? \n",
    "\n",
    "\n",
    "### QUESTION 2\n",
    "\n",
    "- If our dataset has 200 training examples. Each letter is mapped to 2 dimensions. We will have 100 neurons in middle layer and 27 neurons in the output layer. How many times for we update gradient for 1 character 1 dimension ?"
   ]
  },
  {
   "cell_type": "markdown",
   "metadata": {},
   "source": [
    "## ANSWERS \n",
    "\n",
    "\n",
    "### ANSWER 1\n",
    "\n",
    "- Yes, these are All dimensions for the 27 letters . These we will update in each training run to reduce loss. These parameters affect the multiplication with each neuron in the first hidden layer. \n",
    "\n",
    "### ANSWER 2 \n",
    "\n",
    "Letter Dimension for one of the 27 layers is an instance shared among multiple training sample pairs. The cost function is calculated as comparison between all the training sample pairs. So if if specific word occurs in a training sample pair, then it's dimensions will also occur in the training sample pair which means it there is going to be a gradient update. \n",
    "In addition, the letter dimension will be input to 100 neurons. So for each neuron there willl be also gradient update based on that training sample pair. .    \n",
    "- In total, anwswer is going to be TRAINING_SET_OCCURENCES * OUTPUT_NEURONS_FOR_LETTER_EMBEDDINGS which in this case is 200 * 100  . More info on my [YT explanation](https://www.youtube.com/watch?v=KUw20-24YNE&ab_channel=AndresNamm)"
   ]
  },
  {
   "cell_type": "markdown",
   "metadata": {},
   "source": [
    "# MORE RESPECTABLE VERSION OF NEURAL NETWORK + TRAINING"
   ]
  },
  {
   "cell_type": "markdown",
   "metadata": {},
   "source": [
    "Lets define some default hyperparameters"
   ]
  },
  {
   "cell_type": "code",
   "execution_count": 21,
   "metadata": {},
   "outputs": [],
   "source": [
    "EMBEDDING_DIMENSION = 2\n",
    "CONTEXT_SIZE = 3\n",
    "TRAINING_SIZE = -1 # -1 means all data\n",
    "HIDDEN_LAYER_SIZE = 100\n",
    "BATCH_SIZE = 30"
   ]
  },
  {
   "cell_type": "markdown",
   "metadata": {},
   "source": [
    "Let us now generate new training data"
   ]
  },
  {
   "cell_type": "code",
   "execution_count": 22,
   "metadata": {},
   "outputs": [
    {
     "name": "stdout",
     "output_type": "stream",
     "text": [
      "X shape torch.Size([228140, 3])\n",
      "Y shape torch.Size([228140])\n"
     ]
    }
   ],
   "source": [
    "X,Y = generate_training_data(names[:TRAINING_SIZE], context_size=CONTEXT_SIZE,print_out=False)\n",
    "\n",
    "print(f\"X shape {X.shape}\")\n",
    "print(f\"Y shape {Y.shape}\")"
   ]
  },
  {
   "cell_type": "markdown",
   "metadata": {},
   "source": [
    "Initialize parameters"
   ]
  },
  {
   "cell_type": "code",
   "execution_count": 23,
   "metadata": {},
   "outputs": [
    {
     "name": "stdout",
     "output_type": "stream",
     "text": [
      "Total parameters currently in NN 3481\n"
     ]
    }
   ],
   "source": [
    "g = torch.Generator().manual_seed(2147483647)\n",
    "C = torch.randn(27,EMBEDDING_DIMENSION,generator=g) \n",
    "W1 = torch.randn(EMBEDDING_DIMENSION*CONTEXT_SIZE,HIDDEN_LAYER_SIZE,generator=g)\n",
    "B1 = torch.randn(HIDDEN_LAYER_SIZE,generator=g) # Add to every neuron bias\n",
    "W2 = torch.randn(HIDDEN_LAYER_SIZE,27,generator=g)\n",
    "B2 = torch.randn(27) # Add to every neuron bias\n",
    "\n",
    "params = [C,W1,B1,W2,B2]\n",
    "param_count = sum([p.nelement()  for p in params])\n",
    "print(f\"Total parameters currently in NN {param_count}\")\n",
    "\n",
    "for p in params:\n",
    "    p.requires_grad=True\n",
    "\n",
    "\n"
   ]
  },
  {
   "cell_type": "markdown",
   "metadata": {},
   "source": [
    "## TRAINING WITH FULL DATA"
   ]
  },
  {
   "cell_type": "code",
   "execution_count": 24,
   "metadata": {},
   "outputs": [
    {
     "name": "stdout",
     "output_type": "stream",
     "text": [
      "Total loss currently is 19.19011878967285\n",
      "Total loss currently is 16.573490142822266\n"
     ]
    },
    {
     "name": "stdout",
     "output_type": "stream",
     "text": [
      "Total loss currently is 15.311563491821289\n",
      "Total loss currently is 14.380753517150879\n",
      "Total loss currently is 13.567273139953613\n",
      "This is too slow, let's implement the minibatch approach\n"
     ]
    }
   ],
   "source": [
    "import torch.nn.functional as F\n",
    "\n",
    "for i in range(100):\n",
    "    # Forward propagation\n",
    "    h = (C[X].view(-1,EMBEDDING_DIMENSION*CONTEXT_SIZE)  @ W1 + B1).tanh()\n",
    "    logits = h @ W2 + B2\n",
    "    # manual method\n",
    "    # counts = logits.exp()\n",
    "    # probs = counts/counts.sum(1,keepdim=True)\n",
    "    # loss += -probs[torch.arange(len(X)),Y].log().mean()\n",
    "    loss = F.cross_entropy(logits, Y)\n",
    "\n",
    "    print(f\"Total loss currently is {loss}\")\n",
    "    for param in params:\n",
    "        param.grad=None\n",
    "\n",
    "    loss.backward()\n",
    "\n",
    "    for param in params: \n",
    "        param.data -= param.grad * 0.1#type:ignore\n",
    "\n",
    "    if i > 3:\n",
    "        print(\"This is too slow, let's implement the minibatch approach\")\n",
    "        break\n"
   ]
  },
  {
   "cell_type": "markdown",
   "metadata": {},
   "source": [
    "## TRAINING WITH MINIBATCHES"
   ]
  },
  {
   "cell_type": "code",
   "execution_count": 25,
   "metadata": {},
   "outputs": [
    {
     "name": "stdout",
     "output_type": "stream",
     "text": [
      "Iteration 0: Total loss currently is 12.276187896728516\n",
      "Iteration 10: Total loss currently is 8.877606391906738\n"
     ]
    },
    {
     "name": "stdout",
     "output_type": "stream",
     "text": [
      "Iteration 20: Total loss currently is 7.204649448394775\n",
      "Iteration 30: Total loss currently is 5.876865863800049\n",
      "Iteration 40: Total loss currently is 5.493464946746826\n",
      "Iteration 50: Total loss currently is 5.610097885131836\n",
      "Iteration 60: Total loss currently is 5.696964740753174\n",
      "Iteration 70: Total loss currently is 4.290135383605957\n",
      "Iteration 80: Total loss currently is 4.192289352416992\n",
      "Iteration 90: Total loss currently is 3.721163034439087\n"
     ]
    }
   ],
   "source": [
    "import torch.nn.functional as F\n",
    "\n",
    "for i in range(100):\n",
    "    # Forward propagation\n",
    "\n",
    "    minibatch = torch.randint(0,X.shape[0],(31,))\n",
    "    h = (C[X[minibatch]].view(-1,EMBEDDING_DIMENSION*CONTEXT_SIZE)  @ W1 + B1).tanh()\n",
    "    logits = h @ W2 + B2\n",
    "    loss = F.cross_entropy(logits, Y[minibatch])\n",
    "\n",
    "    if i % 10 == 0:\n",
    "        print(f\"Iteration {i}: Total loss currently is {loss}\")\n",
    "\n",
    "    for param in params:\n",
    "        param.grad=None\n",
    "\n",
    "    loss.backward()\n",
    "\n",
    "    for param in params: \n",
    "        param.data -= param.grad * 0.1 #type: ignore\n",
    "\n"
   ]
  },
  {
   "cell_type": "markdown",
   "metadata": {},
   "source": [
    "## TRYING TO FIND THE BEST LEARNING RATE"
   ]
  },
  {
   "cell_type": "code",
   "execution_count": 26,
   "metadata": {},
   "outputs": [
    {
     "data": {
      "text/plain": [
       "[<matplotlib.lines.Line2D at 0x7f6762932350>]"
      ]
     },
     "execution_count": 26,
     "metadata": {},
     "output_type": "execute_result"
    },
    {
     "data": {
      "image/png": "[encoded data removed]",
      "text/plain": [
       "<Figure size 640x480 with 1 Axes>"
      ]
     },
     "metadata": {},
     "output_type": "display_data"
    }
   ],
   "source": [
    "import matplotlib.pyplot as plt\n",
    "%matplotlib inline\n",
    "import torch.nn.functional as F\n",
    "\n",
    "lre = torch.linspace(-3,-0,1000)\n",
    "lr = 10 ** lre\n",
    "plt.title(\"Potential learning rates\")\n",
    "plt.plot(lr)"
   ]
  },
  {
   "cell_type": "code",
   "execution_count": 27,
   "metadata": {},
   "outputs": [
    {
     "name": "stdout",
     "output_type": "stream",
     "text": [
      "Total loss currently is 3.527292013168335\n",
      "Total loss currently is 4.232468605041504\n"
     ]
    },
    {
     "name": "stdout",
     "output_type": "stream",
     "text": [
      "Total loss currently is 3.9166600704193115\n",
      "Total loss currently is 4.014821529388428\n",
      "Total loss currently is 3.6074116230010986\n",
      "Total loss currently is 2.7780838012695312\n",
      "Total loss currently is 2.962111711502075\n",
      "Total loss currently is 3.0760738849639893\n",
      "Total loss currently is 3.0650157928466797\n",
      "Total loss currently is 7.22910737991333\n"
     ]
    }
   ],
   "source": [
    "lri = []\n",
    "lossi = []\n",
    "\n",
    "for i in range(1000):\n",
    "    # Forward propagation\n",
    "\n",
    "    minibatch = torch.randint(0,X.shape[0],(31,))\n",
    "    h = (C[X[minibatch]].view(-1,EMBEDDING_DIMENSION*CONTEXT_SIZE)  @ W1 + B1).tanh()\n",
    "    logits = h @ W2 + B2\n",
    "    loss = F.cross_entropy(logits, Y[minibatch])\n",
    "\n",
    "    if i % 100==0:\n",
    "        print(f\"Total loss currently is {loss}\")\n",
    "\n",
    "    for param in params:\n",
    "        param.grad=None\n",
    "\n",
    "    loss.backward()\n",
    "\n",
    "    for param in params: \n",
    "        param.data -= param.grad * lr[i]\n",
    "\n",
    "    lri.append(lr[i])\n",
    "    lossi.append(loss.item())\n"
   ]
  },
  {
   "cell_type": "markdown",
   "metadata": {},
   "source": [
    "We choose the learning rate from area where we see the loss is generally low. \n",
    "This method might not be mathematically super provable but visually here we actually find area where loss in general is low and gives us good estimation"
   ]
  },
  {
   "cell_type": "code",
   "execution_count": 28,
   "metadata": {},
   "outputs": [
    {
     "data": {
      "text/plain": [
       "[<matplotlib.lines.Line2D at 0x7f67606a6cd0>]"
      ]
     },
     "execution_count": 28,
     "metadata": {},
     "output_type": "execute_result"
    },
    {
     "data": {
      "image/png": "[encoded data removed]",
      "text/plain": [
       "<Figure size 640x480 with 1 Axes>"
      ]
     },
     "metadata": {},
     "output_type": "display_data"
    }
   ],
   "source": [
    "plt.plot(lri,lossi)"
   ]
  },
  {
   "cell_type": "markdown",
   "metadata": {},
   "source": [
    "# FURTHER TUNING TRAINING TO GET LOWEST LOSS POSSIBLE SCORE"
   ]
  },
  {
   "cell_type": "markdown",
   "metadata": {},
   "source": [
    "## MAKE THE TRAINING EVEN MORE PROPER"
   ]
  },
  {
   "cell_type": "markdown",
   "metadata": {},
   "source": [
    "Here, I am running some sample experiments with different neural network hyperparameters to see what is the best performing. \n",
    "This is currently commented out because it seems to make my Python interpreter stop working after some rounds.\n",
    "\n",
    "In general it seems bes performing is \n",
    "\n",
    "- Context size 4 \n",
    "- Hidden layer size 150\n",
    "- Letter embedding 3"
   ]
  },
  {
   "cell_type": "code",
   "execution_count": 29,
   "metadata": {},
   "outputs": [],
   "source": [
    "# from makemore.prepare_data import generate_training_data\n",
    "# from makemore.neural_network import NeuralNetwork, TrainingParams\n",
    "# import matplotlib.pyplot as plt\n",
    "\n",
    "# with open('data/names.txt', encoding='utf-8') as f:\n",
    "#     names = f.readlines()\n",
    "#     names = [name.strip() for name in names]\n",
    "\n",
    "# def train_neural_network(context_size,hidden_layer_size,embedding_dimension,batch_size,epochs,learning_rate_func, print_flag=False):\n",
    "#     X,Y = generate_training_data(names,context_size, False)\n",
    "#     nn = NeuralNetwork(context_size=context_size,hidden_layer_neurons=hidden_layer_size,letter_embedding_dimensions=embedding_dimension,print_flag=print_flag)\n",
    "#     training_params = TrainingParams(batch_size=batch_size,iterations=epochs,learning_rate=learning_rate_func)\n",
    "#     nn.train(X,Y,training_params)\n",
    "#     return nn\n",
    "\n",
    "# epochs=1000\n",
    "# neural_nets = []\n",
    "# embedding_dimension=3\n",
    "\n",
    "# for context_size in [3,4,5]:\n",
    "#     print(f\"Training with context size {context_size}\")\n",
    "#     nn = train_neural_network(context_size=context_size,hidden_layer_size=100,embedding_dimension=embedding_dimension,batch_size=30,epochs=epochs,learning_rate_func=lambda i: [0.1,0.01,0.001][i//450],print_flag=True)\n",
    "#     neural_nets.append(nn)\n",
    "#     print(f\"Neural network {nn.name} final loss: {nn.losses[-1]}\")\n",
    "\n",
    "# for hidden_layer_size in [100,150,200]:\n",
    "#     print(f\"Training with hidden_layer_size {hidden_layer_size}\")\n",
    "#     nn = train_neural_network(context_size=4,hidden_layer_size=hidden_layer_size,embedding_dimension=embedding_dimension,batch_size=30,epochs=epochs,learning_rate_func=lambda i: [0.1,0.01,0.001][i//450],print_flag=True)\n",
    "#     neural_nets.append(nn)\n",
    "#     print(f\"Neural network {nn.name} final loss: {nn.losses[-1]}\")\n",
    "\n",
    "\n",
    "# for nn in neural_nets:\n",
    "#     plt.plot([(loss.item()) for loss in nn.losses[-8:]], label=nn.name, scaley=True )\n",
    "\n",
    "# # Add a legend\n",
    "# plt.legend()\n",
    "\n",
    "# # Show the plot\n",
    "# plt.show()\n",
    "\n",
    "# min_loss_network = neural_nets[0]\n",
    "# min_loss = neural_nets[0].losses[-1]\n",
    "# for nn in neural_nets[1:]:\n",
    "#     if nn.losses[-1] < min_loss:\n",
    "#         min_loss = nn.losses[-1]\n",
    "#         min_loss_network = nn\n",
    "\n",
    "# print(f\"Minimum loss network is {min_loss_network.name} with loss {min_loss}\")"
   ]
  },
  {
   "cell_type": "markdown",
   "metadata": {},
   "source": [
    "From this chart and final improvements it seems "
   ]
  },
  {
   "cell_type": "markdown",
   "metadata": {},
   "source": [
    "## MANUAL FINE TUNING WITH SMALL LEARNING RATE"
   ]
  },
  {
   "cell_type": "code",
   "execution_count": 30,
   "metadata": {},
   "outputs": [
    {
     "name": "stdout",
     "output_type": "stream",
     "text": [
      "Shape of c: torch.Size([27, 3])\n",
      "Shape of w1: torch.Size([12, 150])\n",
      "Shape of b1: torch.Size([150])\n",
      "Shape of w2: torch.Size([150, 27])\n",
      "Shape of b2: torch.Size([27])\n",
      "Total parameters currently in NN 6108\n"
     ]
    }
   ],
   "source": [
    "from makemore.prepare_data import generate_training_data\n",
    "from makemore.neural_network import NeuralNetwork, TrainingParams\n",
    "\n",
    "with open('data/names.txt', encoding='utf-8') as f:\n",
    "    names = f.readlines()\n",
    "    names = [name.strip() for name in names]\n",
    "\n",
    "X,Y = generate_training_data(names,4)\n",
    "\n",
    "nn = NeuralNetwork(context_size=4,hidden_layer_neurons=150,letter_embedding_dimensions=3, print_flag=True)\n"
   ]
  },
  {
   "cell_type": "code",
   "execution_count": 32,
   "metadata": {},
   "outputs": [
    {
     "name": "stdout",
     "output_type": "stream",
     "text": [
      "\u001b[92mStart training\u001b[0m\n",
      "Loss after 62124 epochs: 2.3644049167633057\n",
      "Loss after 95457 epochs: 2.2931721210479736\n",
      "Loss after 128790 epochs: 2.2478115558624268\n",
      "Loss after 162123 epochs: 2.273219347000122\n",
      "NN_4_150_3 loss:after 100000 epochs: 2.273219347000122\n"
     ]
    }
   ],
   "source": [
    "trainig_parameters = TrainingParams(iterations=100000,batch_size=30, learning_rate=lambda x: 0.1)\n",
    "nn.train(X,Y,trainig_parameters)\n"
   ]
  },
  {
   "cell_type": "code",
   "execution_count": 33,
   "metadata": {},
   "outputs": [
    {
     "data": {
      "text/plain": [
       "<matplotlib.legend.Legend at 0x7f675b481c50>"
      ]
     },
     "execution_count": 33,
     "metadata": {},
     "output_type": "execute_result"
    },
    {
     "data": {
      "image/png": "[encoded data removed]",
      "text/plain": [
       "<Figure size 640x480 with 1 Axes>"
      ]
     },
     "metadata": {},
     "output_type": "display_data"
    }
   ],
   "source": [
    "import matplotlib.pyplot as plt\n",
    "len(nn.losses)\n",
    "plt.plot([iteration for iteration in nn.loss_iterations[1:]],[loss.item() for loss in nn.losses[1:]], label=nn.name)\n",
    "plt.legend()"
   ]
  },
  {
   "cell_type": "code",
   "execution_count": 36,
   "metadata": {},
   "outputs": [
    {
     "name": "stdout",
     "output_type": "stream",
     "text": [
      "Shape of c: torch.Size([27, 3])\n",
      "Shape of w1: torch.Size([12, 150])\n",
      "Shape of b1: torch.Size([150])\n",
      "Shape of w2: torch.Size([150, 27])\n",
      "Shape of b2: torch.Size([27])\n",
      "Total parameters currently in NN 6108\n",
      "\u001b[92mStart training\u001b[0m\n",
      "Loss after 1 epochs: 24.17488670349121\n",
      "Loss after 34 epochs: 11.147116661071777\n",
      "Loss after 67 epochs: 8.33547306060791\n",
      "Loss after 100 epochs: 6.375205993652344\n",
      "NN_4_150_3 loss:after 100 epochs: 6.375205993652344\n"
     ]
    },
    {
     "data": {
      "text/plain": [
       "[19, 1, 12, 1, 0]"
      ]
     },
     "execution_count": 36,
     "metadata": {},
     "output_type": "execute_result"
    }
   ],
   "source": []
  },
  {
   "cell_type": "markdown",
   "metadata": {},
   "source": [
    "# NAME GENERATION TEST WITH NN"
   ]
  },
  {
   "cell_type": "code",
   "execution_count": 34,
   "metadata": {},
   "outputs": [
    {
     "ename": "TypeError",
     "evalue": "can only concatenate list (not \"int\") to list",
     "output_type": "error",
     "traceback": [
      "\u001b[0;31m---------------------------------------------------------------------------\u001b[0m",
      "\u001b[0;31mTypeError\u001b[0m                                 Traceback (most recent call last)",
      "Cell \u001b[0;32mIn[34], line 1\u001b[0m\n\u001b[0;32m----> 1\u001b[0m \u001b[43mnn\u001b[49m\u001b[38;5;241;43m.\u001b[39;49m\u001b[43mgenerate_name\u001b[49m\u001b[43m(\u001b[49m\u001b[43m)\u001b[49m\n",
      "File \u001b[0;32m~/repod/nn_zero_to_hero/makemore/neural_network.py:74\u001b[0m, in \u001b[0;36mNeuralNetwork.generate_name\u001b[0;34m(self)\u001b[0m\n\u001b[1;32m     72\u001b[0m     probabilities \u001b[38;5;241m=\u001b[39m NeuralNetwork\u001b[38;5;241m.\u001b[39msigmoid(((\u001b[38;5;28mself\u001b[39m\u001b[38;5;241m.\u001b[39mc[context_idx]\u001b[38;5;241m.\u001b[39mview(\u001b[38;5;241m-\u001b[39m\u001b[38;5;241m1\u001b[39m,\u001b[38;5;28mself\u001b[39m\u001b[38;5;241m.\u001b[39mcontext_size\u001b[38;5;241m*\u001b[39m\u001b[38;5;28mself\u001b[39m\u001b[38;5;241m.\u001b[39mletter_embedding_dimensions) \u001b[38;5;241m@\u001b[39m \u001b[38;5;28mself\u001b[39m\u001b[38;5;241m.\u001b[39mw1 \u001b[38;5;241m+\u001b[39m \u001b[38;5;28mself\u001b[39m\u001b[38;5;241m.\u001b[39mb1)\u001b[38;5;241m.\u001b[39mtanh() \u001b[38;5;241m@\u001b[39m \u001b[38;5;28mself\u001b[39m\u001b[38;5;241m.\u001b[39mw2 \u001b[38;5;241m+\u001b[39m \u001b[38;5;28mself\u001b[39m\u001b[38;5;241m.\u001b[39mb2))        \n\u001b[1;32m     73\u001b[0m     predicted_idx\u001b[38;5;241m=\u001b[39mprobabilities\u001b[38;5;241m.\u001b[39margmax()\u001b[38;5;241m.\u001b[39mitem()\n\u001b[0;32m---> 74\u001b[0m     context_idx \u001b[38;5;241m=\u001b[39m \u001b[43mcontext_idx\u001b[49m\u001b[43m[\u001b[49m\u001b[38;5;241;43m1\u001b[39;49m\u001b[43m:\u001b[49m\u001b[43m]\u001b[49m\u001b[43m \u001b[49m\u001b[38;5;241;43m+\u001b[39;49m\u001b[43m \u001b[49m\u001b[43mpredicted_idx\u001b[49m\n\u001b[1;32m     75\u001b[0m     name\u001b[38;5;241m.\u001b[39mappend(predicted_idx)\n\u001b[1;32m     76\u001b[0m \u001b[38;5;28;01mreturn\u001b[39;00m name\n",
      "\u001b[0;31mTypeError\u001b[0m: can only concatenate list (not \"int\") to list"
     ]
    }
   ],
   "source": [
    "nn.generate_name()"
   ]
  },
  {
   "cell_type": "markdown",
   "metadata": {},
   "source": [
    "# TRAIN/DEV/TEST SET"
   ]
  },
  {
   "cell_type": "code",
   "execution_count": null,
   "metadata": {},
   "outputs": [],
   "source": [
    "import random\n",
    "random.seed(42)\n",
    "random.shuffle(names)\n",
    "\n",
    "n1 = int(len(names)*0.8)\n",
    "n2 = int(len(names)*0.9)\n",
    "\n",
    "X_training,Y_training = generate_training_data(names[:n1])\n",
    "X_validation,Y_validation = generate_training_data(names[n1:n2])\n",
    "X_test,Y_test = generate_training_data(names[n2:])\n"
   ]
  },
  {
   "cell_type": "markdown",
   "metadata": {},
   "source": []
  },
  {
   "cell_type": "code",
   "execution_count": null,
   "metadata": {},
   "outputs": [],
   "source": []
  },
  {
   "cell_type": "code",
   "execution_count": null,
   "metadata": {},
   "outputs": [],
   "source": []
  }
 ],
 "metadata": {
  "kernelspec": {
   "display_name": "Python 3",
   "language": "python",
   "name": "python3"
  },
  "language_info": {
   "codemirror_mode": {
    "name": "ipython",
    "version": 3
   },
   "file_extension": ".py",
   "mimetype": "text/x-python",
   "name": "python",
   "nbconvert_exporter": "python",
   "pygments_lexer": "ipython3",
   "version": "3.11.8"
  }
 },
 "nbformat": 4,
 "nbformat_minor": 2
}
