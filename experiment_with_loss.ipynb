{
 "cells": [
  {
   "cell_type": "code",
   "execution_count": 1,
   "metadata": {},
   "outputs": [
    {
     "data": {
      "text/plain": [
       "<torch._C.Generator at 0x7f3cd0328450>"
      ]
     },
     "execution_count": 1,
     "metadata": {},
     "output_type": "execute_result"
    }
   ],
   "source": [
    "import torch\n",
    "\n",
    "\n",
    "torch.manual_seed(0)\n",
    "\n"
   ]
  },
  {
   "cell_type": "code",
   "execution_count": 2,
   "metadata": {},
   "outputs": [
    {
     "name": "stdout",
     "output_type": "stream",
     "text": [
      "tensor([ 1.0000, 20.0855,     inf,     inf])\n",
      "tensor([0.0000e+00, 3.0000e+00, 2.2000e+02, 1.1000e+04])\n"
     ]
    }
   ],
   "source": [
    "from torch import Tensor\n",
    "\n",
    "def sigmoid(logits):\n",
    "    counts=logits.exp()\n",
    "    return counts/(counts.sum())\n",
    "\n",
    "test = Tensor([0,3,220,11000])\n",
    "\n",
    "print(test.exp())\n",
    "print(test)"
   ]
  },
  {
   "cell_type": "code",
   "execution_count": 3,
   "metadata": {},
   "outputs": [
    {
     "name": "stdout",
     "output_type": "stream",
     "text": [
      "tensor([0., 0., nan, nan])\n",
      "tensor(nan)\n",
      "tensor([0.5000, 0.9526, 1.0000, 1.0000])\n",
      "tensor(3.4526)\n"
     ]
    }
   ],
   "source": [
    "\n",
    "\n",
    "print(sigmoid(test))\n",
    "print(sigmoid(test).sum())\n",
    "\n",
    "print(torch.sigmoid(test))\n",
    "print(torch.sigmoid(test).sum())\n",
    "\n",
    "\n"
   ]
  },
  {
   "cell_type": "code",
   "execution_count": 4,
   "metadata": {},
   "outputs": [
    {
     "name": "stdout",
     "output_type": "stream",
     "text": [
      "tensor([0., 0., nan, nan])\n",
      "tensor(nan)\n",
      "tensor([0.5000, 0.9526, 1.0000, 1.0000])\n",
      "tensor(3.4526)\n"
     ]
    }
   ],
   "source": [
    "\n",
    "\n",
    "print(sigmoid(test))\n",
    "print(sigmoid(test).sum())\n",
    "\n",
    "print(torch.sigmoid(test))\n",
    "print(torch.sigmoid(test).sum())\n",
    "\n",
    "\n"
   ]
  },
  {
   "cell_type": "code",
   "execution_count": null,
   "metadata": {},
   "outputs": [],
   "source": []
  }
 ],
 "metadata": {
  "kernelspec": {
   "display_name": "Python 3",
   "language": "python",
   "name": "python3"
  },
  "language_info": {
   "codemirror_mode": {
    "name": "ipython",
    "version": 3
   },
   "file_extension": ".py",
   "mimetype": "text/x-python",
   "name": "python",
   "nbconvert_exporter": "python",
   "pygments_lexer": "ipython3",
   "version": "3.11.8"
  }
 },
 "nbformat": 4,
 "nbformat_minor": 2
}
