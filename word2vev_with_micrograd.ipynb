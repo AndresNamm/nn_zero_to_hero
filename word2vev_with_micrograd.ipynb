{
 "cells": [
  {
   "cell_type": "code",
   "execution_count": 2,
   "metadata": {},
   "outputs": [],
   "source": [
    "from my_utils.utils import *"
   ]
  },
  {
   "cell_type": "markdown",
   "metadata": {},
   "source": [
    "# DATA PREPARATION\n",
    "\n",
    "- [Read more from here](https://towardsdatascience.com/a-word2vec-implementation-using-numpy-and-python-d256cf0e5f28)\n",
    "- [Theory from here](http://www.claudiobellei.com/2018/01/06/backprop-word2vec/#skipgram)\n",
    "\n",
    "The training data needs to be in the following format. \n",
    "\n",
    "Example:\n",
    "\n",
    "    Window size = 2, Vocab size = 9\n",
    "\n",
    "\n",
    "    We will set the indicies as 1 according to the word_to_index dict i.e natural : 0,  so we set the 0th index as 1 to denote natural\n",
    "\n",
    "    Target word = best    \n",
    "    Context words = (way,to)\n",
    "    Target_word_one_hot_vector = [1, 0, 0, 0, 0, 0, 0, 0, 0]\n",
    "    Context_word_one_hot_vector = [0, 1, 1, 0, 0, 0, 0, 0, 0]\n",
    "    \n",
    "    Target word = way    \n",
    "    Context words = (best,to,success)\n",
    "    Target_word_one_hot_vector = [0, 1, 0, 0, 0, 0, 0, 0, 0]\n",
    "    Context_word_one_hot_vector= [1, 0, 1, 1, 0, 0, 0, 0, 0]\n",
    "    \n",
    "\n",
    "\n",
    "Thus we need to take the text \n",
    "\n",
    "1. Encode it into hot encoded vectors\n",
    "2. In this case we are using Skip-gram which build model that, tries to learn the context words for each of the target words.\n",
    "\n"
   ]
  },
  {
   "cell_type": "code",
   "execution_count": 3,
   "metadata": {},
   "outputs": [
    {
     "ename": "NameError",
     "evalue": "name 'generate_dictionary_data' is not defined",
     "output_type": "error",
     "traceback": [
      "\u001b[0;31m---------------------------------------------------------------------------\u001b[0m",
      "\u001b[0;31mNameError\u001b[0m                                 Traceback (most recent call last)",
      "Cell \u001b[0;32mIn[3], line 4\u001b[0m\n\u001b[1;32m      1\u001b[0m \u001b[38;5;28;01mwith\u001b[39;00m \u001b[38;5;28mopen\u001b[39m(\u001b[38;5;124m'\u001b[39m\u001b[38;5;124mdata/jef_archer.txt\u001b[39m\u001b[38;5;124m'\u001b[39m) \u001b[38;5;28;01mas\u001b[39;00m f:\n\u001b[1;32m      2\u001b[0m     text \u001b[38;5;241m=\u001b[39m f\u001b[38;5;241m.\u001b[39mread()\n\u001b[0;32m----> 4\u001b[0m word_to_index,index_to_word,corpus,vocab_size,length_of_corpus \u001b[38;5;241m=\u001b[39m \u001b[43mgenerate_dictionary_data\u001b[49m(text)\n",
      "\u001b[0;31mNameError\u001b[0m: name 'generate_dictionary_data' is not defined"
     ]
    }
   ],
   "source": [
    "with open('data/jef_archer.txt') as f:\n",
    "    text = f.read()\n",
    "\n",
    "word_to_index,index_to_word,corpus,vocab_size,length_of_corpus = generate_dictionary_data(text)"
   ]
  },
  {
   "cell_type": "code",
   "execution_count": null,
   "metadata": {},
   "outputs": [],
   "source": [
    "\n",
    "\n",
    "\n",
    "\n",
    "for i in range(len(training_data)):\n",
    "    print('*' * 50)\n",
    "    print('Target word:%s . Target vector: %s ' %(training_sample_words[i][0],training_data[i][0]))\n",
    "    print('Context word:%s . Context  vector: %s ' %(training_sample_words[i][1],training_data[i][1]))"
   ]
  }
 ],
 "metadata": {
  "kernelspec": {
   "display_name": ".venv",
   "language": "python",
   "name": "python3"
  },
  "language_info": {
   "codemirror_mode": {
    "name": "ipython",
    "version": 3
   },
   "file_extension": ".py",
   "mimetype": "text/x-python",
   "name": "python",
   "nbconvert_exporter": "python",
   "pygments_lexer": "ipython3",
   "version": "3.11.5"
  }
 },
 "nbformat": 4,
 "nbformat_minor": 2
}
